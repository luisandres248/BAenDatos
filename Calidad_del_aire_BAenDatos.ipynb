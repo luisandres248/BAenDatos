{
 "cells": [
  {
   "cell_type": "markdown",
   "metadata": {},
   "source": [
    "# Analisis del flujo vehicular en la ciudad de Buenos Aires y su impacto en la calidad del aire\n",
    "\n",
    "## Un analisis de correlacion entre los datos del flujo vehicular en la ciudad, tomados entre el 05 de marzo y el 30 de noviembre de 2020 y los indices de calidad del aire recopilados por las estaciones Parque Centenario y Cordoba\n",
    "\n",
    "### Luis Andres Marquez Vergara,  para participación en #BAenDatos 15/12/2020\n",
    "https://github.com/luisandres248"
   ]
  },
  {
   "cell_type": "markdown",
   "metadata": {},
   "source": [
    "Para este estudio utilicé las bases de datos disponibles en https://data.buenosaires.gob.ar/ de donde descargué las correspondientes a flujo vehicular e Indices de calidad del aire.\n",
    "Mi hipotesis era que teniendo estos datos en los periodos pre y durante el aislamiento obligatorio que comenzó en marzo de este año podria obtener una correlación y posteriormente construir un modelo para saber que impacto puede tener la reduccion o aumento del flujo vehicular sobre estos indices de calidad del aire\n",
    "De esta forma se podria estimar en cuanto podemos mejorar los indices si el flujo vehicular se redujera por aplicación de medidas gubernamentales y de optimizacion de la vialidad y servicios de transporte masivo"
   ]
  },
  {
   "cell_type": "markdown",
   "metadata": {},
   "source": [
    "## Datos"
   ]
  },
  {
   "cell_type": "markdown",
   "metadata": {},
   "source": [
    "Cargué las tres bases de datos que utilicé, las dos antes mencionadas y una tercera sobre las temperaturas medias de la ciudad tomadas diariamente en un periodo de varios años, esta fue extraida de \"University of Dayton - Environmental Protection Agency Average Daily Temperature Archive,\n",
    "http://academic.udayton.edu/kissock/http/Weather/default.htm \""
   ]
  },
  {
   "cell_type": "code",
   "execution_count": 1,
   "metadata": {},
   "outputs": [
    {
     "data": {
      "text/html": [
       "<div>\n",
       "<style scoped>\n",
       "    .dataframe tbody tr th:only-of-type {\n",
       "        vertical-align: middle;\n",
       "    }\n",
       "\n",
       "    .dataframe tbody tr th {\n",
       "        vertical-align: top;\n",
       "    }\n",
       "\n",
       "    .dataframe thead th {\n",
       "        text-align: right;\n",
       "    }\n",
       "</style>\n",
       "<table border=\"1\" class=\"dataframe\">\n",
       "  <thead>\n",
       "    <tr style=\"text-align: right;\">\n",
       "      <th></th>\n",
       "      <th>CANTIDAD</th>\n",
       "      <th>CO_CENTENARIO</th>\n",
       "      <th>NO2_CENTENARIO</th>\n",
       "      <th>PM10_CENTENARIO</th>\n",
       "      <th>CO_CORDOBA</th>\n",
       "      <th>NO2_CORDOBA</th>\n",
       "      <th>PM10_CORDOBA</th>\n",
       "      <th>°C</th>\n",
       "    </tr>\n",
       "    <tr>\n",
       "      <th>FECHA</th>\n",
       "      <th></th>\n",
       "      <th></th>\n",
       "      <th></th>\n",
       "      <th></th>\n",
       "      <th></th>\n",
       "      <th></th>\n",
       "      <th></th>\n",
       "      <th></th>\n",
       "    </tr>\n",
       "  </thead>\n",
       "  <tbody>\n",
       "    <tr>\n",
       "      <th>2020-03-02</th>\n",
       "      <td>1054661</td>\n",
       "      <td>0.557917</td>\n",
       "      <td>18.958333</td>\n",
       "      <td>24.125000</td>\n",
       "      <td>0.422500</td>\n",
       "      <td>14.500000</td>\n",
       "      <td>24.041667</td>\n",
       "      <td>28.500000</td>\n",
       "    </tr>\n",
       "    <tr>\n",
       "      <th>2020-03-03</th>\n",
       "      <td>1069378</td>\n",
       "      <td>0.520417</td>\n",
       "      <td>15.625000</td>\n",
       "      <td>22.583333</td>\n",
       "      <td>0.440833</td>\n",
       "      <td>14.041667</td>\n",
       "      <td>29.200000</td>\n",
       "      <td>26.666667</td>\n",
       "    </tr>\n",
       "    <tr>\n",
       "      <th>2020-03-04</th>\n",
       "      <td>1090640</td>\n",
       "      <td>0.432500</td>\n",
       "      <td>15.590909</td>\n",
       "      <td>22.333333</td>\n",
       "      <td>0.465417</td>\n",
       "      <td>13.541667</td>\n",
       "      <td>18.612840</td>\n",
       "      <td>25.888889</td>\n",
       "    </tr>\n",
       "    <tr>\n",
       "      <th>2020-03-05</th>\n",
       "      <td>1131111</td>\n",
       "      <td>0.225417</td>\n",
       "      <td>13.291667</td>\n",
       "      <td>19.083333</td>\n",
       "      <td>0.403333</td>\n",
       "      <td>11.875000</td>\n",
       "      <td>18.612840</td>\n",
       "      <td>25.388889</td>\n",
       "    </tr>\n",
       "    <tr>\n",
       "      <th>2020-03-06</th>\n",
       "      <td>1178058</td>\n",
       "      <td>0.290417</td>\n",
       "      <td>15.541667</td>\n",
       "      <td>18.083333</td>\n",
       "      <td>0.408750</td>\n",
       "      <td>13.166667</td>\n",
       "      <td>18.612840</td>\n",
       "      <td>24.666667</td>\n",
       "    </tr>\n",
       "    <tr>\n",
       "      <th>...</th>\n",
       "      <td>...</td>\n",
       "      <td>...</td>\n",
       "      <td>...</td>\n",
       "      <td>...</td>\n",
       "      <td>...</td>\n",
       "      <td>...</td>\n",
       "      <td>...</td>\n",
       "      <td>...</td>\n",
       "    </tr>\n",
       "    <tr>\n",
       "      <th>2020-11-29</th>\n",
       "      <td>401791</td>\n",
       "      <td>0.558750</td>\n",
       "      <td>9.416667</td>\n",
       "      <td>19.750000</td>\n",
       "      <td>0.837917</td>\n",
       "      <td>28.125000</td>\n",
       "      <td>14.291667</td>\n",
       "      <td>24.388889</td>\n",
       "    </tr>\n",
       "    <tr>\n",
       "      <th>2020-11-30</th>\n",
       "      <td>643894</td>\n",
       "      <td>0.407917</td>\n",
       "      <td>8.541667</td>\n",
       "      <td>24.041667</td>\n",
       "      <td>0.527083</td>\n",
       "      <td>25.416667</td>\n",
       "      <td>21.666667</td>\n",
       "      <td>21.555556</td>\n",
       "    </tr>\n",
       "    <tr>\n",
       "      <th>2020-12-01</th>\n",
       "      <td>683532</td>\n",
       "      <td>0.493333</td>\n",
       "      <td>12.000000</td>\n",
       "      <td>20.416667</td>\n",
       "      <td>0.504583</td>\n",
       "      <td>28.958333</td>\n",
       "      <td>16.458333</td>\n",
       "      <td>18.500000</td>\n",
       "    </tr>\n",
       "    <tr>\n",
       "      <th>2020-12-02</th>\n",
       "      <td>732230</td>\n",
       "      <td>0.623333</td>\n",
       "      <td>18.833333</td>\n",
       "      <td>23.083333</td>\n",
       "      <td>0.638333</td>\n",
       "      <td>34.250000</td>\n",
       "      <td>19.500000</td>\n",
       "      <td>18.000000</td>\n",
       "    </tr>\n",
       "    <tr>\n",
       "      <th>2020-12-03</th>\n",
       "      <td>711235</td>\n",
       "      <td>0.564167</td>\n",
       "      <td>14.500000</td>\n",
       "      <td>20.000000</td>\n",
       "      <td>0.700000</td>\n",
       "      <td>34.166667</td>\n",
       "      <td>18.333333</td>\n",
       "      <td>20.611111</td>\n",
       "    </tr>\n",
       "  </tbody>\n",
       "</table>\n",
       "<p>277 rows × 8 columns</p>\n",
       "</div>"
      ],
      "text/plain": [
       "            CANTIDAD  CO_CENTENARIO  NO2_CENTENARIO  PM10_CENTENARIO  \\\n",
       "FECHA                                                                  \n",
       "2020-03-02   1054661       0.557917       18.958333        24.125000   \n",
       "2020-03-03   1069378       0.520417       15.625000        22.583333   \n",
       "2020-03-04   1090640       0.432500       15.590909        22.333333   \n",
       "2020-03-05   1131111       0.225417       13.291667        19.083333   \n",
       "2020-03-06   1178058       0.290417       15.541667        18.083333   \n",
       "...              ...            ...             ...              ...   \n",
       "2020-11-29    401791       0.558750        9.416667        19.750000   \n",
       "2020-11-30    643894       0.407917        8.541667        24.041667   \n",
       "2020-12-01    683532       0.493333       12.000000        20.416667   \n",
       "2020-12-02    732230       0.623333       18.833333        23.083333   \n",
       "2020-12-03    711235       0.564167       14.500000        20.000000   \n",
       "\n",
       "            CO_CORDOBA  NO2_CORDOBA  PM10_CORDOBA         °C  \n",
       "FECHA                                                         \n",
       "2020-03-02    0.422500    14.500000     24.041667  28.500000  \n",
       "2020-03-03    0.440833    14.041667     29.200000  26.666667  \n",
       "2020-03-04    0.465417    13.541667     18.612840  25.888889  \n",
       "2020-03-05    0.403333    11.875000     18.612840  25.388889  \n",
       "2020-03-06    0.408750    13.166667     18.612840  24.666667  \n",
       "...                ...          ...           ...        ...  \n",
       "2020-11-29    0.837917    28.125000     14.291667  24.388889  \n",
       "2020-11-30    0.527083    25.416667     21.666667  21.555556  \n",
       "2020-12-01    0.504583    28.958333     16.458333  18.500000  \n",
       "2020-12-02    0.638333    34.250000     19.500000  18.000000  \n",
       "2020-12-03    0.700000    34.166667     18.333333  20.611111  \n",
       "\n",
       "[277 rows x 8 columns]"
      ]
     },
     "execution_count": 1,
     "metadata": {},
     "output_type": "execute_result"
    }
   ],
   "source": [
    "import pandas as pd\n",
    "import numpy as np\n",
    "import re\n",
    "import matplotlib.pyplot as plt\n",
    "from statsmodels.tsa.seasonal import seasonal_decompose\n",
    "import xlrd\n",
    "import seaborn as sn\n",
    "%matplotlib widget\n",
    "\n",
    "df_vehiculos = pd.read_csv('dataset_flujo_vehicular.csv')\n",
    "df_aire = pd.read_csv('calidad-aire.csv')\n",
    "df_temp = pd.read_excel('AGBUENOS.xls')\n",
    "#transformaciones al dataset de flujo vehicular\n",
    "df_vehiculos.drop(columns=['CODIGO_LOCACION','SENTIDO']) #elimino columnas \n",
    "df_vehiculos['HORA'] = pd.to_datetime(df_vehiculos['HORA'],  format='%d%b%Y:%H:%M:%S').dt.date  #cambio de formato de la fecha\n",
    "df_vehiculos = df_vehiculos.groupby('HORA', as_index=False)['CANTIDAD'].sum() #totalizar los registros por dia\n",
    "df_vehiculos = df_vehiculos.rename(columns={'HORA':'FECHA'}) \n",
    "#transformaciones al dataset de calidad del aire\n",
    "df_aire = df_aire.drop(columns = ['HORA','CO_PALERMO','NO2_PALERMO','PM10_PALERMO','CO_LA_BOCA','NO2_LA_BOCA','PM10_LA_BOCA'])\n",
    "df_aire = df_aire.astype('str') \n",
    "col = df_aire.columns[1:]\n",
    "def remove_chars(s): #funcion para eliminar caracteres no numerios de las columnas para poder utilizarlas\n",
    "    return re.sub('[^0-9]+', '', s) \n",
    "for i in col:\n",
    "    df_aire[i] = df_aire[i].apply(remove_chars)\n",
    "df_aire = df_aire.replace(r'^\\s*$', np.nan, regex=True) #reemplazo vacios por NANs\n",
    "df_aire['FECHA'] = pd.to_datetime(df_aire['FECHA'],  format='%d%b%Y:%H:%M:%S').dt.date  #formato correcto para fecha\n",
    "df_aire = df_aire.astype({'CO_CENTENARIO':'float','NO2_CENTENARIO':'float','PM10_CENTENARIO':'float', #columnas a float\n",
    "                          'CO_CORDOBA':'float','NO2_CORDOBA':'float','PM10_CORDOBA':'float'})\n",
    "df_aire['CO_CENTENARIO'] = df_aire['CO_CENTENARIO'] / 100 #divido entre 100 estas dos columnas para obtener el mismo orden de magnitud que las originales\n",
    "df_aire['CO_CORDOBA'] = df_aire['CO_CORDOBA'] / 100\n",
    "df_aire = df_aire.groupby('FECHA', as_index=False).mean() #totalizo los registros diarios con la media correspondiente\n",
    "#transformaciones del dataset de temperaturas\n",
    "df_temp['FECHA'] = pd.to_datetime(df_temp['FECHA']).dt.date\n",
    "#union de los dataframes\n",
    "df_merged = df_vehiculos.merge(df_aire, on = 'FECHA')\n",
    "df_merged = df_merged.merge(df_temp, on ='FECHA')\n",
    "df_merged['CO_CORDOBA'] = df_merged['CO_CORDOBA'].fillna(df_merged['CO_CORDOBA'].mean()) #reemplazar faltantes por la media\n",
    "df_merged['NO2_CORDOBA'] = df_merged['NO2_CORDOBA'].fillna(df_merged['NO2_CORDOBA'].mean())\n",
    "df_merged['PM10_CORDOBA'] = df_merged['PM10_CORDOBA'].fillna(df_merged['PM10_CORDOBA'].mean())\n",
    "df_merged = df_merged.set_index('FECHA')\n",
    "df_merged = df_merged.asfreq('d') \n",
    "df_merged"
   ]
  },
  {
   "cell_type": "markdown",
   "metadata": {},
   "source": [
    "En la tabla que vemos arriba tenemos los registros entre el 2 de marzo y el 3 de diciembre para las columnas.\n",
    "\n",
    "CANTIDAD: Suma del flujo vehicular total detectado por los sensores en la ciudad.\n",
    "\n",
    "°C: Representa la temperatura media en grados centigrados.\n",
    "\n",
    "Y CO, NO2, y PM10 para ambas estaciones CENTENARIO y CORDOBA donde se registran los valores promedio de cada uno de estos indicadores"
   ]
  },
  {
   "cell_type": "code",
   "execution_count": 2,
   "metadata": {},
   "outputs": [
    {
     "data": {
      "application/vnd.jupyter.widget-view+json": {
       "model_id": "c1dd1cbbbb084a318e1f8b29de95278f",
       "version_major": 2,
       "version_minor": 0
      },
      "text/plain": [
       "Canvas(toolbar=Toolbar(toolitems=[('Home', 'Reset original view', 'home', 'home'), ('Back', 'Back to previous …"
      ]
     },
     "metadata": {},
     "output_type": "display_data"
    },
    {
     "data": {
      "text/plain": [
       "Text(0, 0.5, 'TEMPERATURA °C')"
      ]
     },
     "execution_count": 2,
     "metadata": {},
     "output_type": "execute_result"
    }
   ],
   "source": [
    "\"\"\"Utilizo un metodo para descomponer cada serie de tiempo en sus componentes trend, seasonal y resid, \n",
    "   de manera de eliminar el efecto de variación que genera los dias laborales contra los fines de semana\n",
    "   y trabajar solo con la componente trend\"\"\"\n",
    "df_trends = df_merged.copy()\n",
    "columnas = df_trends\n",
    "for i in columnas:\n",
    "    df_trends[i] = seasonal_decompose(df_trends[i], model='additive').trend\n",
    "df_trends = df_trends.dropna()\n",
    "\n",
    "fig, axes = plt.subplots(nrows=4, ncols=2, figsize=(9,6))\n",
    "ylabels = ['FLUJO VEHICULAR','CO','NO2','PM10']\n",
    "for i,var in enumerate(['CANTIDAD','CO_CENTENARIO','NO2_CENTENARIO','PM10_CENTENARIO']):\n",
    "    df_trends[var].plot(ax=axes[i,0], title=[])\n",
    "    axes[i,0].tick_params(axis='x', which='major', labelsize=5,labelbottom='off' )\n",
    "    axes[i,0].set_ylabel(ylabels[i])\n",
    "for i,var in enumerate(['°C','CO_CORDOBA','NO2_CORDOBA','PM10_CORDOBA']):\n",
    "    df_trends[var].plot(ax=axes[i,1], title=[]) \n",
    "    axes[i,1].tick_params(axis='x', which='major', labelsize=5 )\n",
    "    axes[i,1].set_xlabel('')\n",
    "axes[3,0].set_xlabel('CENTENARIO')\n",
    "axes[3,1].set_xlabel('CORDOBA')\n",
    "axes[0,1].set_ylabel('TEMPERATURA °C')"
   ]
  },
  {
   "cell_type": "markdown",
   "metadata": {},
   "source": [
    "En estas graficas arriba se puede ver la serie de datos respecto al periodo de tiempo de estudio.\n",
    "\n",
    "La de CANTIDAD en la esquina superior izquierda muestra claramente el descenso abruto en el flujo vehicular causado por el decreto de aislamiento obligatorio y luego como se va recuperando la actividad a medida que avanza el año, desafortunadamente estos datos comienzan pocos dias antes de dicho decreto por lo que tenemos pocos dias para comparar aunque de igual forma se puede observar las difrencias.\n",
    "\n",
    "Una de las primera conclusiones que obtuve fue al ver como en general todas las mediciones de los contaminantes en el aire experimentan una reduccion en sus niveles de manera proporcional a la reduccion del flujo vehicular para el periodo Marzo-Abril, pero luego, no siguen la misma tendencia del flujo vehicular sino que experimentan una especie de parabola que se ve mas claramente en la grafica de NO2_CENTENARIO, para explicar ese comportamiento que no se corresponde con el del flujo vehicular incluí el dataset de Temperaturas, la cual claramente se corresponde de forma inversamente proporcional a las mediciones de contaminantes. De este comportamiento lo que puedo deducir es que el efecto del descenso de la temperatura y como cosecuencia presumiblemente el aumento del uso de calefacción genera un aumento muy apreciable en los contaminantes del aire, que se suma al del flujo vehicular.\n",
    "\n",
    "De esta forma ahora tenemos 2 variables independientes, la Temperatura y el Flujo vehicular, con las cuales podria calcular los indices de calidad del aire que dependerian de ellas. \n",
    "\n",
    "## Analisis y modelado"
   ]
  },
  {
   "cell_type": "code",
   "execution_count": 3,
   "metadata": {},
   "outputs": [
    {
     "data": {
      "application/vnd.jupyter.widget-view+json": {
       "model_id": "c5dfb55bd9c54e91b188310bf9a1329a",
       "version_major": 2,
       "version_minor": 0
      },
      "text/plain": [
       "Canvas(toolbar=Toolbar(toolitems=[('Home', 'Reset original view', 'home', 'home'), ('Back', 'Back to previous …"
      ]
     },
     "metadata": {},
     "output_type": "display_data"
    },
    {
     "data": {
      "text/plain": [
       "<AxesSubplot:>"
      ]
     },
     "execution_count": 3,
     "metadata": {},
     "output_type": "execute_result"
    }
   ],
   "source": [
    "fig, axes = plt.subplots(nrows=1, ncols=1, figsize=(5,3))\n",
    "corrMatrix2 = df_trends.corr()\n",
    "axes = sn.heatmap(corrMatrix2, annot=True)\n",
    "axes"
   ]
  },
  {
   "cell_type": "markdown",
   "metadata": {},
   "source": [
    "Esta es una matriz de correlación lineal entre las columnas de datos, si bien no hay correlaciones tan marcadas para los indices de contaminacion contra la cantidad y temperatura, si se puede observar una influencia entre ellas, por lo que a continuacion planteo un modelo de prediccion que toma los valores de Flujo Vehicular y Temperatura y da como resultado los valores de los indices de contaminacion, de esta forma podria calcular despues la influencia de una reduccion de la movilidad vehicular sobre estos indices de calidad del aire"
   ]
  },
  {
   "cell_type": "code",
   "execution_count": 5,
   "metadata": {},
   "outputs": [
    {
     "data": {
      "text/plain": [
       "{'CO_CENTENARIO': 0.6285038306354422,\n",
       " 'NO2_CENTENARIO': 0.7974146577480266,\n",
       " 'PM10_CENTENARIO': 0.4447934070632199,\n",
       " 'CO_CORDOBA': 0.731131630858963,\n",
       " 'NO2_CORDOBA': 0.26270901009054737,\n",
       " 'PM10_CORDOBA': 0.6241486898065671}"
      ]
     },
     "execution_count": 5,
     "metadata": {},
     "output_type": "execute_result"
    }
   ],
   "source": [
    "from sklearn.model_selection import train_test_split\n",
    "from sklearn.ensemble import RandomForestRegressor\n",
    "from sklearn.metrics import mean_squared_error\n",
    "columnas = df_trends.columns\n",
    "column = columnas[1:-1]\n",
    "df_trends_predict = dict.fromkeys(column) #diccionario para guardas las predicciones\n",
    "df_trends_test = dict.fromkeys(column) #diccionario para guardas las series de test\n",
    "scores = dict.fromkeys(column) #diccionario para guardas los scores de los modelos\n",
    "#loop para hacer un modelo para cada una de las columnas de contaminantes\n",
    "for i in column:\n",
    "    x = df_trends[[columnas[0],columnas[-1]]]\n",
    "    y = df_trends[i]\n",
    "    X_train, X_test, y_train, y_test = train_test_split(x, y, test_size=0.2)\n",
    "    model_trends = RandomForestRegressor(oob_score = True,n_estimators=500, bootstrap = True)\n",
    "    model_trends.fit(X_train,y_train)\n",
    "    df_trends_predict[i] = model_trends.predict(X_test)\n",
    "    df_trends_test[i] = y_test\n",
    "    scores[i] = model_trends.score(X_test,y_test)\n",
    "#calculo de la raiz del error cuadratico medio como medida para evaluar las predicciones del modelo\n",
    "rmse = dict.fromkeys(column)\n",
    "for i in column:\n",
    "    rmse[i] = mean_squared_error(df_trends_test[i],df_trends_predict[i], squared=False)\n",
    "scores"
   ]
  },
  {
   "cell_type": "markdown",
   "metadata": {},
   "source": [
    "Con los scores que se muetran arriba se puede ver que si bien no hay mucha precision para la mayoria de los indices, si se podria estimar un valor al menos en principio para el NO2_CENTENARIO, el cual en las diferentes pruebas es el que mejor se comporta. Con mas datos, tiempo y trabajo se podria mejorar los resultados y obtener mayor precision y confiabilidad."
   ]
  },
  {
   "cell_type": "code",
   "execution_count": 6,
   "metadata": {},
   "outputs": [
    {
     "data": {
      "text/html": [
       "<div>\n",
       "<style scoped>\n",
       "    .dataframe tbody tr th:only-of-type {\n",
       "        vertical-align: middle;\n",
       "    }\n",
       "\n",
       "    .dataframe tbody tr th {\n",
       "        vertical-align: top;\n",
       "    }\n",
       "\n",
       "    .dataframe thead th {\n",
       "        text-align: right;\n",
       "    }\n",
       "</style>\n",
       "<table border=\"1\" class=\"dataframe\">\n",
       "  <thead>\n",
       "    <tr style=\"text-align: right;\">\n",
       "      <th></th>\n",
       "      <th>CO_CENTENARIO</th>\n",
       "      <th>NO2_CENTENARIO</th>\n",
       "      <th>PM10_CENTENARIO</th>\n",
       "      <th>CO_CORDOBA</th>\n",
       "      <th>NO2_CORDOBA</th>\n",
       "      <th>PM10_CORDOBA</th>\n",
       "    </tr>\n",
       "  </thead>\n",
       "  <tbody>\n",
       "    <tr>\n",
       "      <th>count</th>\n",
       "      <td>55.000000</td>\n",
       "      <td>55.000000</td>\n",
       "      <td>55.000000</td>\n",
       "      <td>55.000000</td>\n",
       "      <td>55.000000</td>\n",
       "      <td>55.000000</td>\n",
       "    </tr>\n",
       "    <tr>\n",
       "      <th>mean</th>\n",
       "      <td>0.422345</td>\n",
       "      <td>16.344467</td>\n",
       "      <td>19.151948</td>\n",
       "      <td>0.664171</td>\n",
       "      <td>25.478482</td>\n",
       "      <td>19.116864</td>\n",
       "    </tr>\n",
       "    <tr>\n",
       "      <th>std</th>\n",
       "      <td>0.097280</td>\n",
       "      <td>3.805515</td>\n",
       "      <td>4.811176</td>\n",
       "      <td>0.119171</td>\n",
       "      <td>11.276072</td>\n",
       "      <td>7.582976</td>\n",
       "    </tr>\n",
       "    <tr>\n",
       "      <th>min</th>\n",
       "      <td>0.249286</td>\n",
       "      <td>8.446429</td>\n",
       "      <td>11.589286</td>\n",
       "      <td>0.428536</td>\n",
       "      <td>5.821429</td>\n",
       "      <td>9.583333</td>\n",
       "    </tr>\n",
       "    <tr>\n",
       "      <th>25%</th>\n",
       "      <td>0.354405</td>\n",
       "      <td>13.254529</td>\n",
       "      <td>15.669643</td>\n",
       "      <td>0.612619</td>\n",
       "      <td>18.163420</td>\n",
       "      <td>14.475692</td>\n",
       "    </tr>\n",
       "    <tr>\n",
       "      <th>50%</th>\n",
       "      <td>0.407920</td>\n",
       "      <td>16.697511</td>\n",
       "      <td>18.916667</td>\n",
       "      <td>0.650933</td>\n",
       "      <td>25.150974</td>\n",
       "      <td>17.060512</td>\n",
       "    </tr>\n",
       "    <tr>\n",
       "      <th>75%</th>\n",
       "      <td>0.488125</td>\n",
       "      <td>19.001894</td>\n",
       "      <td>20.755952</td>\n",
       "      <td>0.694841</td>\n",
       "      <td>32.548701</td>\n",
       "      <td>20.818552</td>\n",
       "    </tr>\n",
       "    <tr>\n",
       "      <th>max</th>\n",
       "      <td>0.739464</td>\n",
       "      <td>23.148810</td>\n",
       "      <td>32.000000</td>\n",
       "      <td>0.959095</td>\n",
       "      <td>48.408550</td>\n",
       "      <td>41.029762</td>\n",
       "    </tr>\n",
       "  </tbody>\n",
       "</table>\n",
       "</div>"
      ],
      "text/plain": [
       "       CO_CENTENARIO  NO2_CENTENARIO  PM10_CENTENARIO  CO_CORDOBA  \\\n",
       "count      55.000000       55.000000        55.000000   55.000000   \n",
       "mean        0.422345       16.344467        19.151948    0.664171   \n",
       "std         0.097280        3.805515         4.811176    0.119171   \n",
       "min         0.249286        8.446429        11.589286    0.428536   \n",
       "25%         0.354405       13.254529        15.669643    0.612619   \n",
       "50%         0.407920       16.697511        18.916667    0.650933   \n",
       "75%         0.488125       19.001894        20.755952    0.694841   \n",
       "max         0.739464       23.148810        32.000000    0.959095   \n",
       "\n",
       "       NO2_CORDOBA  PM10_CORDOBA  \n",
       "count    55.000000     55.000000  \n",
       "mean     25.478482     19.116864  \n",
       "std      11.276072      7.582976  \n",
       "min       5.821429      9.583333  \n",
       "25%      18.163420     14.475692  \n",
       "50%      25.150974     17.060512  \n",
       "75%      32.548701     20.818552  \n",
       "max      48.408550     41.029762  "
      ]
     },
     "execution_count": 6,
     "metadata": {},
     "output_type": "execute_result"
    }
   ],
   "source": [
    "df_trends_test_2 = pd.DataFrame(df_trends_test)\n",
    "df_trends_test_2.describe()"
   ]
  },
  {
   "cell_type": "markdown",
   "metadata": {},
   "source": [
    "como datos adicionales podemos ver la diferencia entre la desviacion estandar (STD) de los datos originales en la tabla de arriba y la Raiz del Error Cuadratico Medio de los valores calculados con el modelo que estan a continuación"
   ]
  },
  {
   "cell_type": "code",
   "execution_count": 7,
   "metadata": {},
   "outputs": [
    {
     "data": {
      "text/plain": [
       "{'CO_CENTENARIO': 0.05875083554631105,\n",
       " 'NO2_CENTENARIO': 1.6971999315194166,\n",
       " 'PM10_CENTENARIO': 3.5521728120932363,\n",
       " 'CO_CORDOBA': 0.06122907059001937,\n",
       " 'NO2_CORDOBA': 9.593848096453558,\n",
       " 'PM10_CORDOBA': 4.606416742620005}"
      ]
     },
     "execution_count": 7,
     "metadata": {},
     "output_type": "execute_result"
    }
   ],
   "source": [
    "rmse"
   ]
  },
  {
   "cell_type": "markdown",
   "metadata": {},
   "source": [
    "## Conclusiones\n",
    "\n",
    "Para obtener una conclusion en cuanto a el efecto de reducir solo el flujo vehicular sobre los indices de calidad del aire, se puede tener la media de todos los valores para los dias antes del decreto, y de igual forma para un periodo de un mes despues del decreto. Luego para cada caso, antes y despues, reduzco el valor del flujo vehicular en un 20% y mediante el modelo creado obtengo los indices de contaminantes.\n",
    "\n",
    "Como se tienen pocos datos (aproximadamente 10 dias) antes del efecto del decreto, los resultados para este periodo no serian muy confiables, pero para tener un punto de comparacion utilizo ese periodo y luego los datos de 30 dias continuos luego de haber pasado 1 mes de salir el decreto de aislamiento."
   ]
  },
  {
   "cell_type": "code",
   "execution_count": 8,
   "metadata": {},
   "outputs": [
    {
     "data": {
      "text/html": [
       "<div>\n",
       "<style scoped>\n",
       "    .dataframe tbody tr th:only-of-type {\n",
       "        vertical-align: middle;\n",
       "    }\n",
       "\n",
       "    .dataframe tbody tr th {\n",
       "        vertical-align: top;\n",
       "    }\n",
       "\n",
       "    .dataframe thead th {\n",
       "        text-align: right;\n",
       "    }\n",
       "</style>\n",
       "<table border=\"1\" class=\"dataframe\">\n",
       "  <thead>\n",
       "    <tr style=\"text-align: right;\">\n",
       "      <th></th>\n",
       "      <th>CO_CENTENARIO_antes</th>\n",
       "      <th>CO_CENTENARIO_despues</th>\n",
       "      <th>NO2_CENTENARIO_antes</th>\n",
       "      <th>NO2_CENTENARIO_despues</th>\n",
       "      <th>PM10_CENTENARIO_antes</th>\n",
       "      <th>PM10_CENTENARIO_despues</th>\n",
       "      <th>CO_CORDOBA_antes</th>\n",
       "      <th>CO_CORDOBA_despues</th>\n",
       "      <th>NO2_CORDOBA_antes</th>\n",
       "      <th>NO2_CORDOBA_despues</th>\n",
       "      <th>PM10_CORDOBA_antes</th>\n",
       "      <th>PM10_CORDOBA_despues</th>\n",
       "    </tr>\n",
       "    <tr>\n",
       "      <th>index</th>\n",
       "      <th></th>\n",
       "      <th></th>\n",
       "      <th></th>\n",
       "      <th></th>\n",
       "      <th></th>\n",
       "      <th></th>\n",
       "      <th></th>\n",
       "      <th></th>\n",
       "      <th></th>\n",
       "      <th></th>\n",
       "      <th></th>\n",
       "      <th></th>\n",
       "    </tr>\n",
       "  </thead>\n",
       "  <tbody>\n",
       "    <tr>\n",
       "      <th>Original</th>\n",
       "      <td>0.367246</td>\n",
       "      <td>0.387357</td>\n",
       "      <td>17.3543</td>\n",
       "      <td>12.893</td>\n",
       "      <td>21.2952</td>\n",
       "      <td>14.4577</td>\n",
       "      <td>0.465312</td>\n",
       "      <td>0.651589</td>\n",
       "      <td>15.3018</td>\n",
       "      <td>15.826</td>\n",
       "      <td>18.9929</td>\n",
       "      <td>12.0643</td>\n",
       "    </tr>\n",
       "    <tr>\n",
       "      <th>Prediccion</th>\n",
       "      <td>0.350372</td>\n",
       "      <td>0.339521</td>\n",
       "      <td>18.0354</td>\n",
       "      <td>14.5882</td>\n",
       "      <td>21.4917</td>\n",
       "      <td>12.3056</td>\n",
       "      <td>0.493894</td>\n",
       "      <td>0.651242</td>\n",
       "      <td>15.9691</td>\n",
       "      <td>16.9629</td>\n",
       "      <td>18.6237</td>\n",
       "      <td>10.2469</td>\n",
       "    </tr>\n",
       "    <tr>\n",
       "      <th>Reduccion</th>\n",
       "      <td>0.268549</td>\n",
       "      <td>0.412232</td>\n",
       "      <td>14.1168</td>\n",
       "      <td>12.1076</td>\n",
       "      <td>22.2682</td>\n",
       "      <td>12.9574</td>\n",
       "      <td>0.623828</td>\n",
       "      <td>0.64846</td>\n",
       "      <td>25.6191</td>\n",
       "      <td>11.9275</td>\n",
       "      <td>19.6934</td>\n",
       "      <td>10.5207</td>\n",
       "    </tr>\n",
       "    <tr>\n",
       "      <th>Porcentaje</th>\n",
       "      <td>27%</td>\n",
       "      <td>-6%</td>\n",
       "      <td>19%</td>\n",
       "      <td>6%</td>\n",
       "      <td>-5%</td>\n",
       "      <td>10%</td>\n",
       "      <td>-34%</td>\n",
       "      <td>0%</td>\n",
       "      <td>-67%</td>\n",
       "      <td>25%</td>\n",
       "      <td>-4%</td>\n",
       "      <td>13%</td>\n",
       "    </tr>\n",
       "  </tbody>\n",
       "</table>\n",
       "</div>"
      ],
      "text/plain": [
       "           CO_CENTENARIO_antes CO_CENTENARIO_despues NO2_CENTENARIO_antes  \\\n",
       "index                                                                       \n",
       "Original              0.367246              0.387357              17.3543   \n",
       "Prediccion            0.350372              0.339521              18.0354   \n",
       "Reduccion             0.268549              0.412232              14.1168   \n",
       "Porcentaje                 27%                   -6%                  19%   \n",
       "\n",
       "           NO2_CENTENARIO_despues PM10_CENTENARIO_antes  \\\n",
       "index                                                     \n",
       "Original                   12.893               21.2952   \n",
       "Prediccion                14.5882               21.4917   \n",
       "Reduccion                 12.1076               22.2682   \n",
       "Porcentaje                     6%                   -5%   \n",
       "\n",
       "           PM10_CENTENARIO_despues CO_CORDOBA_antes CO_CORDOBA_despues  \\\n",
       "index                                                                    \n",
       "Original                   14.4577         0.465312           0.651589   \n",
       "Prediccion                 12.3056         0.493894           0.651242   \n",
       "Reduccion                  12.9574         0.623828            0.64846   \n",
       "Porcentaje                     10%             -34%                 0%   \n",
       "\n",
       "           NO2_CORDOBA_antes NO2_CORDOBA_despues PM10_CORDOBA_antes  \\\n",
       "index                                                                 \n",
       "Original             15.3018              15.826            18.9929   \n",
       "Prediccion           15.9691             16.9629            18.6237   \n",
       "Reduccion            25.6191             11.9275            19.6934   \n",
       "Porcentaje              -67%                 25%                -4%   \n",
       "\n",
       "           PM10_CORDOBA_despues  \n",
       "index                            \n",
       "Original                12.0643  \n",
       "Prediccion              10.2469  \n",
       "Reduccion               10.5207  \n",
       "Porcentaje                  13%  "
      ]
     },
     "execution_count": 8,
     "metadata": {},
     "output_type": "execute_result"
    }
   ],
   "source": [
    "#medias del conjunto de datos antes y despues del decreto \n",
    "df_antes = df_trends[:10].mean()\n",
    "df_despues = df_trends[30:60].mean()\n",
    "#separacion para pasarlos por el modelo\n",
    "media_features_antes = df_antes[['CANTIDAD','°C']]\n",
    "media_aire_antes = df_antes[columnas[1:-1]]\n",
    "media_features_despues = df_despues[['CANTIDAD','°C']]\n",
    "media_aire_despues = df_despues[columnas[1:-1]]\n",
    "#datos con la reduccion del 20%\n",
    "reduccion_features_antes = media_features_antes.copy()\n",
    "reduccion_features_despues = media_features_despues.copy()\n",
    "reduccion_features_antes['CANTIDAD'] = reduccion_features_antes['CANTIDAD'] * 0.8\n",
    "reduccion_features_despues['CANTIDAD'] = reduccion_features_despues['CANTIDAD'] * 0.8\n",
    "#modelo que procesa todos los datos al mismo tiempo\n",
    "model_trends2 = RandomForestRegressor(oob_score = True,n_estimators=300, bootstrap = True, random_state = 4 )\n",
    "model_trends2.fit(df_trends[['CANTIDAD','°C']],df_trends[columnas[1:-1]])\n",
    "#predicciones del modelo para antes y despues sin alterar los datos\n",
    "pred_antes = model_trends2.predict(media_features_antes.values.reshape(1,-1))\n",
    "pred_despues = model_trends2.predict(media_features_despues.values.reshape(1,-1))\n",
    "#prediccion del modelo para antes y despues con la reduccion del 20% del flujo vehicular\n",
    "pred_reduccion_antes = model_trends2.predict(reduccion_features_antes.values.reshape(1,-1))\n",
    "pred_reduccion_despues = model_trends2.predict(reduccion_features_despues.values.reshape(1,-1))\n",
    "#filas de porcentajes\n",
    "porcentual_antes = (media_aire_antes.values - pred_reduccion_antes)/media_aire_antes.values\n",
    "porcentual_antes  = porcentual_antes[0].tolist() \n",
    "porcentual_antes = [\"{:.0%}\".format(member) for member in porcentual_antes]\n",
    "porcentual_despues = (media_aire_despues.values - pred_reduccion_despues)/media_aire_despues.values\n",
    "porcentual_despues  = porcentual_despues[0].tolist() \n",
    "porcentual_despues = [\"{:.0%}\".format(member) for member in porcentual_despues]\n",
    "#Unificacion de todo en un dataframe\n",
    "list_antes = list([np.array(media_aire_antes,dtype=object).reshape(1,-1),pred_antes[0],pred_reduccion_antes[0],porcentual_antes])\n",
    "DF_ANTES = pd.DataFrame(np.row_stack(list_antes), columns=(s + '_antes' for s in columnas[1:-1]))\n",
    "list_despues = list([np.array(media_aire_despues,dtype=object).reshape(1,-1),pred_despues[0],pred_reduccion_despues[0],porcentual_despues])\n",
    "DF_DESPUES = pd.DataFrame(np.row_stack(list_despues), columns=(s + '_despues' for s in columnas[1:-1]))\n",
    "DF3= pd.concat([DF_ANTES , DF_DESPUES], axis=1)\n",
    "DF3 = DF3[list(sum(zip(DF_ANTES.columns, DF_DESPUES.columns), ()))]\n",
    "DF3['index'] = ['Original','Prediccion','Reduccion','Porcentaje']\n",
    "DF4 = DF3.set_index('index',drop=True).copy()\n",
    "DF4"
   ]
  },
  {
   "cell_type": "markdown",
   "metadata": {},
   "source": [
    "En la tabla que tenemos arriba están los datos para cada uno de los contaminantes correspondientes a la cantidad promedio de flujo vehicular y temperatura antes y despues del decreto de aislamiento obligatorio.\n",
    "Luego en las filas se puede ver la de datos orginales (promedio de varios dias), la siguiente fila sería la prediccion del modelo solo para observar que los valores que arroja son consistentes con los originales y luego en la fila denotada como \"Reducción\" se encuentran los datos correspondientes a la reduccion de un 20% del flujo vehicular para ambos periodos y sin alterar la temperatura correspondiente, lo cual nos da un porcentaje de disminución (en positivo) o aumento (porcentajes negativos) para cada contaminante expresados en la fila de \"Porcentaje\".\n",
    "\n",
    "Como habiamos visto antes el modelo tiene mayor precision para calcular el indice de NO2_CENTENARIO, el cual tanto antes como despues del decreto experimentó un decrecimiento al igual que la mayoria de los indices.\n",
    "\n",
    "Eso quiere decir que si reducimos en un 20% el flujo vehicular de la ciudad se podria disminuir entre un 6% y un 19% la cantidad de NO2 presente en el aire.\n",
    "\n",
    "En la grafica siguiente estan los mismos valores  expresados en una grafica de barras para mejor visualización."
   ]
  },
  {
   "cell_type": "code",
   "execution_count": 9,
   "metadata": {},
   "outputs": [
    {
     "data": {
      "application/vnd.jupyter.widget-view+json": {
       "model_id": "4fedbcdd81424ecc9ac681f28f400a60",
       "version_major": 2,
       "version_minor": 0
      },
      "text/plain": [
       "Canvas(toolbar=Toolbar(toolitems=[('Home', 'Reset original view', 'home', 'home'), ('Back', 'Back to previous …"
      ]
     },
     "metadata": {},
     "output_type": "display_data"
    }
   ],
   "source": [
    "fig, axes = plt.subplots(nrows=3, ncols=2, figsize=(10, 8))\n",
    "\n",
    "axes[0,0].bar(columnas[1:-1],media_aire_antes)\n",
    "axes[0,0].set_ylabel('Originales')\n",
    "axes[0,1].bar(columnas[1:-1],media_aire_despues)\n",
    "axes[1,0].bar(columnas[1:-1],pred_antes[0])\n",
    "axes[1,0].set_ylabel('Predecidos sin modificar')\n",
    "axes[1,1].bar(columnas[1:-1],pred_despues[0])\n",
    "axes[2,0].bar(columnas[1:-1],pred_reduccion_antes[0])\n",
    "axes[2,0].set_ylabel('Predecidos con reduccion')\n",
    "axes[2,1].bar(columnas[1:-1],pred_reduccion_despues[0])\n",
    "axes[2,0].set_xlabel('Antes')\n",
    "axes[2,1].set_xlabel('Despues')\n",
    "for i,ax in axes :\n",
    "    ax.tick_params(axis='x', which='major', labelsize=5,labelbottom='off' )\n",
    "    i.tick_params(axis='x', which='major', labelsize=5,labelbottom='off' )"
   ]
  },
  {
   "cell_type": "markdown",
   "metadata": {},
   "source": [
    "Faltaria mucho trabajo y verificacion para que estos datos calculados tengan confiablidad estadistica aceptable, pero puede servir como un punto de partida para estudios mas profundos sobre la materia. El obetivo principal era probar de forma no muy rigurosa la hipotesis que tenia en cuanto a los efectos del flujo vehicular sobre los contaminantes del aire y organizarlo de forma visual y explicativa para mi participacion en el concurso organizado por el Gobierno de la Ciudad de Buenos Aires #BAenDatos."
   ]
  }
 ],
 "metadata": {
  "kernelspec": {
   "display_name": "Python 3",
   "language": "python",
   "name": "python3"
  },
  "language_info": {
   "codemirror_mode": {
    "name": "ipython",
    "version": 3
   },
   "file_extension": ".py",
   "mimetype": "text/x-python",
   "name": "python",
   "nbconvert_exporter": "python",
   "pygments_lexer": "ipython3",
   "version": "3.8.4"
  },
  "widgets": {
   "application/vnd.jupyter.widget-state+json": {
    "state": {
     "00d5ee644d6f4f4bab67779e00b6019b": {
      "model_module": "@jupyter-widgets/base",
      "model_module_version": "1.2.0",
      "model_name": "LayoutModel",
      "state": {}
     },
     "024c2dc706d44a03a2a74b9127ff5811": {
      "model_module": "@jupyter-widgets/base",
      "model_module_version": "1.2.0",
      "model_name": "LayoutModel",
      "state": {}
     },
     "030105ee2f834219a03339218913d624": {
      "model_module": "@jupyter-widgets/base",
      "model_module_version": "1.2.0",
      "model_name": "LayoutModel",
      "state": {}
     },
     "03bf59a7c7eb4c6ab5a94f0bcc71756d": {
      "model_module": "@jupyter-widgets/base",
      "model_module_version": "1.2.0",
      "model_name": "LayoutModel",
      "state": {}
     },
     "04ae4a67a63f4e878e5144aecf51c685": {
      "model_module": "jupyter-matplotlib",
      "model_module_version": "^0.7.4",
      "model_name": "ToolbarModel",
      "state": {
       "layout": "IPY_MODEL_c54238b024574ed0ae37f49497747c7b",
       "toolitems": [
        [
         "Home",
         "Reset original view",
         "home",
         "home"
        ],
        [
         "Back",
         "Back to previous view",
         "arrow-left",
         "back"
        ],
        [
         "Forward",
         "Forward to next view",
         "arrow-right",
         "forward"
        ],
        [
         "Pan",
         "Left button pans, Right button zooms\nx/y fixes axis, CTRL fixes aspect",
         "arrows",
         "pan"
        ],
        [
         "Zoom",
         "Zoom to rectangle\nx/y fixes axis, CTRL fixes aspect",
         "square-o",
         "zoom"
        ],
        [
         "Download",
         "Download plot",
         "floppy-o",
         "save_figure"
        ]
       ]
      }
     },
     "057f60ac01ad449bb3ac9b0072a7b58b": {
      "model_module": "@jupyter-widgets/base",
      "model_module_version": "1.2.0",
      "model_name": "LayoutModel",
      "state": {}
     },
     "066ab51caae24b53a80527f2888113f8": {
      "model_module": "@jupyter-widgets/base",
      "model_module_version": "1.2.0",
      "model_name": "LayoutModel",
      "state": {}
     },
     "072511145eb94c97bb51340bd36bf3b1": {
      "model_module": "jupyter-matplotlib",
      "model_module_version": "^0.7.4",
      "model_name": "ToolbarModel",
      "state": {
       "layout": "IPY_MODEL_81674767adcc42d7b4e581388563db58",
       "toolitems": [
        [
         "Home",
         "Reset original view",
         "home",
         "home"
        ],
        [
         "Back",
         "Back to previous view",
         "arrow-left",
         "back"
        ],
        [
         "Forward",
         "Forward to next view",
         "arrow-right",
         "forward"
        ],
        [
         "Pan",
         "Left button pans, Right button zooms\nx/y fixes axis, CTRL fixes aspect",
         "arrows",
         "pan"
        ],
        [
         "Zoom",
         "Zoom to rectangle\nx/y fixes axis, CTRL fixes aspect",
         "square-o",
         "zoom"
        ],
        [
         "Download",
         "Download plot",
         "floppy-o",
         "save_figure"
        ]
       ]
      }
     },
     "093b803c22304936a1938af00fbb7708": {
      "model_module": "jupyter-matplotlib",
      "model_module_version": "^0.7.4",
      "model_name": "ToolbarModel",
      "state": {
       "layout": "IPY_MODEL_8607598d387d492e90427ebecf4c350c",
       "toolitems": [
        [
         "Home",
         "Reset original view",
         "home",
         "home"
        ],
        [
         "Back",
         "Back to previous view",
         "arrow-left",
         "back"
        ],
        [
         "Forward",
         "Forward to next view",
         "arrow-right",
         "forward"
        ],
        [
         "Pan",
         "Left button pans, Right button zooms\nx/y fixes axis, CTRL fixes aspect",
         "arrows",
         "pan"
        ],
        [
         "Zoom",
         "Zoom to rectangle\nx/y fixes axis, CTRL fixes aspect",
         "square-o",
         "zoom"
        ],
        [
         "Download",
         "Download plot",
         "floppy-o",
         "save_figure"
        ]
       ]
      }
     },
     "09e81aac14214b2dadd69b2d9c7184a5": {
      "model_module": "jupyter-matplotlib",
      "model_module_version": "^0.7.4",
      "model_name": "ToolbarModel",
      "state": {
       "layout": "IPY_MODEL_b9b15d68e71c49caa5a9dcffcefb7b7b",
       "toolitems": [
        [
         "Home",
         "Reset original view",
         "home",
         "home"
        ],
        [
         "Back",
         "Back to previous view",
         "arrow-left",
         "back"
        ],
        [
         "Forward",
         "Forward to next view",
         "arrow-right",
         "forward"
        ],
        [
         "Pan",
         "Left button pans, Right button zooms\nx/y fixes axis, CTRL fixes aspect",
         "arrows",
         "pan"
        ],
        [
         "Zoom",
         "Zoom to rectangle\nx/y fixes axis, CTRL fixes aspect",
         "square-o",
         "zoom"
        ],
        [
         "Download",
         "Download plot",
         "floppy-o",
         "save_figure"
        ]
       ]
      }
     },
     "0a56ffba4a82408dbaa4a55c1abe091f": {
      "model_module": "@jupyter-widgets/base",
      "model_module_version": "1.2.0",
      "model_name": "LayoutModel",
      "state": {}
     },
     "0af0c741ecfd40c4ad1395f57ccca6a7": {
      "model_module": "jupyter-matplotlib",
      "model_module_version": "^0.7.4",
      "model_name": "ToolbarModel",
      "state": {
       "layout": "IPY_MODEL_545fe2c991e64d4e957ac02387c05cd7",
       "toolitems": [
        [
         "Home",
         "Reset original view",
         "home",
         "home"
        ],
        [
         "Back",
         "Back to previous view",
         "arrow-left",
         "back"
        ],
        [
         "Forward",
         "Forward to next view",
         "arrow-right",
         "forward"
        ],
        [
         "Pan",
         "Left button pans, Right button zooms\nx/y fixes axis, CTRL fixes aspect",
         "arrows",
         "pan"
        ],
        [
         "Zoom",
         "Zoom to rectangle\nx/y fixes axis, CTRL fixes aspect",
         "square-o",
         "zoom"
        ],
        [
         "Download",
         "Download plot",
         "floppy-o",
         "save_figure"
        ]
       ]
      }
     },
     "0b48791e3f0741f9aa142df43ad45555": {
      "model_module": "jupyter-matplotlib",
      "model_module_version": "^0.7.4",
      "model_name": "ToolbarModel",
      "state": {
       "layout": "IPY_MODEL_874c8e127c04433380d89bedb6074dde",
       "toolitems": [
        [
         "Home",
         "Reset original view",
         "home",
         "home"
        ],
        [
         "Back",
         "Back to previous view",
         "arrow-left",
         "back"
        ],
        [
         "Forward",
         "Forward to next view",
         "arrow-right",
         "forward"
        ],
        [
         "Pan",
         "Left button pans, Right button zooms\nx/y fixes axis, CTRL fixes aspect",
         "arrows",
         "pan"
        ],
        [
         "Zoom",
         "Zoom to rectangle\nx/y fixes axis, CTRL fixes aspect",
         "square-o",
         "zoom"
        ],
        [
         "Download",
         "Download plot",
         "floppy-o",
         "save_figure"
        ]
       ]
      }
     },
     "0ce9321e80d24d60a86bb0c299298f71": {
      "model_module": "@jupyter-widgets/base",
      "model_module_version": "1.2.0",
      "model_name": "LayoutModel",
      "state": {}
     },
     "0df711907002411aa64a9c0d8419defd": {
      "model_module": "@jupyter-widgets/base",
      "model_module_version": "1.2.0",
      "model_name": "LayoutModel",
      "state": {}
     },
     "0e9add56d23b43fc8ac1aa3f9aa2ed4d": {
      "model_module": "jupyter-matplotlib",
      "model_module_version": "^0.7.4",
      "model_name": "ToolbarModel",
      "state": {
       "layout": "IPY_MODEL_817cf75e60ab453dac35c3b84551621c",
       "toolitems": [
        [
         "Home",
         "Reset original view",
         "home",
         "home"
        ],
        [
         "Back",
         "Back to previous view",
         "arrow-left",
         "back"
        ],
        [
         "Forward",
         "Forward to next view",
         "arrow-right",
         "forward"
        ],
        [
         "Pan",
         "Left button pans, Right button zooms\nx/y fixes axis, CTRL fixes aspect",
         "arrows",
         "pan"
        ],
        [
         "Zoom",
         "Zoom to rectangle\nx/y fixes axis, CTRL fixes aspect",
         "square-o",
         "zoom"
        ],
        [
         "Download",
         "Download plot",
         "floppy-o",
         "save_figure"
        ]
       ]
      }
     },
     "12f3c87cff8645718f006ef4b4c7407c": {
      "model_module": "@jupyter-widgets/base",
      "model_module_version": "1.2.0",
      "model_name": "LayoutModel",
      "state": {}
     },
     "166d4a10501147738d4be574c673d09d": {
      "model_module": "jupyter-matplotlib",
      "model_module_version": "^0.7.4",
      "model_name": "ToolbarModel",
      "state": {
       "layout": "IPY_MODEL_676734d60aad446b8b60e20779ad7d0c",
       "toolitems": [
        [
         "Home",
         "Reset original view",
         "home",
         "home"
        ],
        [
         "Back",
         "Back to previous view",
         "arrow-left",
         "back"
        ],
        [
         "Forward",
         "Forward to next view",
         "arrow-right",
         "forward"
        ],
        [
         "Pan",
         "Left button pans, Right button zooms\nx/y fixes axis, CTRL fixes aspect",
         "arrows",
         "pan"
        ],
        [
         "Zoom",
         "Zoom to rectangle\nx/y fixes axis, CTRL fixes aspect",
         "square-o",
         "zoom"
        ],
        [
         "Download",
         "Download plot",
         "floppy-o",
         "save_figure"
        ]
       ]
      }
     },
     "166ebf8dd5f9449e871b3af331cb5e81": {
      "model_module": "@jupyter-widgets/base",
      "model_module_version": "1.2.0",
      "model_name": "LayoutModel",
      "state": {}
     },
     "167ad88ec9f14ddaaa21f3c1e8361848": {
      "model_module": "@jupyter-widgets/base",
      "model_module_version": "1.2.0",
      "model_name": "LayoutModel",
      "state": {}
     },
     "172ccad7d5da43efa24e3f5f7cd92988": {
      "model_module": "jupyter-matplotlib",
      "model_module_version": "^0.7.4",
      "model_name": "ToolbarModel",
      "state": {
       "layout": "IPY_MODEL_6224a41b2269441b855b3a59e241ea1b",
       "toolitems": [
        [
         "Home",
         "Reset original view",
         "home",
         "home"
        ],
        [
         "Back",
         "Back to previous view",
         "arrow-left",
         "back"
        ],
        [
         "Forward",
         "Forward to next view",
         "arrow-right",
         "forward"
        ],
        [
         "Pan",
         "Left button pans, Right button zooms\nx/y fixes axis, CTRL fixes aspect",
         "arrows",
         "pan"
        ],
        [
         "Zoom",
         "Zoom to rectangle\nx/y fixes axis, CTRL fixes aspect",
         "square-o",
         "zoom"
        ],
        [
         "Download",
         "Download plot",
         "floppy-o",
         "save_figure"
        ]
       ]
      }
     },
     "1e081ca6da48421781ab8c8d15233af4": {
      "model_module": "@jupyter-widgets/base",
      "model_module_version": "1.2.0",
      "model_name": "LayoutModel",
      "state": {}
     },
     "1f73028bc7ea4c8db3f2d44dfc0f073e": {
      "model_module": "@jupyter-widgets/base",
      "model_module_version": "1.2.0",
      "model_name": "LayoutModel",
      "state": {}
     },
     "2413f52e153148c2bc60cd0928a71285": {
      "model_module": "jupyter-matplotlib",
      "model_module_version": "^0.7.4",
      "model_name": "ToolbarModel",
      "state": {
       "layout": "IPY_MODEL_3f15f6403f234c688647c1fe35fa762f",
       "toolitems": [
        [
         "Home",
         "Reset original view",
         "home",
         "home"
        ],
        [
         "Back",
         "Back to previous view",
         "arrow-left",
         "back"
        ],
        [
         "Forward",
         "Forward to next view",
         "arrow-right",
         "forward"
        ],
        [
         "Pan",
         "Left button pans, Right button zooms\nx/y fixes axis, CTRL fixes aspect",
         "arrows",
         "pan"
        ],
        [
         "Zoom",
         "Zoom to rectangle\nx/y fixes axis, CTRL fixes aspect",
         "square-o",
         "zoom"
        ],
        [
         "Download",
         "Download plot",
         "floppy-o",
         "save_figure"
        ]
       ]
      }
     },
     "24a760f8746c436bb28970d1927933d2": {
      "model_module": "jupyter-matplotlib",
      "model_module_version": "^0.7.4",
      "model_name": "ToolbarModel",
      "state": {
       "layout": "IPY_MODEL_a757afe7420e43708dbcdcf93a1fa71b",
       "toolitems": [
        [
         "Home",
         "Reset original view",
         "home",
         "home"
        ],
        [
         "Back",
         "Back to previous view",
         "arrow-left",
         "back"
        ],
        [
         "Forward",
         "Forward to next view",
         "arrow-right",
         "forward"
        ],
        [
         "Pan",
         "Left button pans, Right button zooms\nx/y fixes axis, CTRL fixes aspect",
         "arrows",
         "pan"
        ],
        [
         "Zoom",
         "Zoom to rectangle\nx/y fixes axis, CTRL fixes aspect",
         "square-o",
         "zoom"
        ],
        [
         "Download",
         "Download plot",
         "floppy-o",
         "save_figure"
        ]
       ]
      }
     },
     "25c782b37b5347ab9597b5aee15ce35d": {
      "model_module": "@jupyter-widgets/base",
      "model_module_version": "1.2.0",
      "model_name": "LayoutModel",
      "state": {}
     },
     "26195c23768f44719d5ca67e81ca49e5": {
      "model_module": "jupyter-matplotlib",
      "model_module_version": "^0.7.4",
      "model_name": "ToolbarModel",
      "state": {
       "layout": "IPY_MODEL_610b3a6b5c4c4cfa87d29e7ab4571642",
       "toolitems": [
        [
         "Home",
         "Reset original view",
         "home",
         "home"
        ],
        [
         "Back",
         "Back to previous view",
         "arrow-left",
         "back"
        ],
        [
         "Forward",
         "Forward to next view",
         "arrow-right",
         "forward"
        ],
        [
         "Pan",
         "Left button pans, Right button zooms\nx/y fixes axis, CTRL fixes aspect",
         "arrows",
         "pan"
        ],
        [
         "Zoom",
         "Zoom to rectangle\nx/y fixes axis, CTRL fixes aspect",
         "square-o",
         "zoom"
        ],
        [
         "Download",
         "Download plot",
         "floppy-o",
         "save_figure"
        ]
       ]
      }
     },
     "2698e47fa5f347e1bccd899e9510c027": {
      "model_module": "@jupyter-widgets/base",
      "model_module_version": "1.2.0",
      "model_name": "LayoutModel",
      "state": {}
     },
     "27bb0ca905e64891a99a1e637cf9240f": {
      "model_module": "jupyter-matplotlib",
      "model_module_version": "^0.7.4",
      "model_name": "ToolbarModel",
      "state": {
       "layout": "IPY_MODEL_543b3784563143fabe9cc01141178411",
       "toolitems": [
        [
         "Home",
         "Reset original view",
         "home",
         "home"
        ],
        [
         "Back",
         "Back to previous view",
         "arrow-left",
         "back"
        ],
        [
         "Forward",
         "Forward to next view",
         "arrow-right",
         "forward"
        ],
        [
         "Pan",
         "Left button pans, Right button zooms\nx/y fixes axis, CTRL fixes aspect",
         "arrows",
         "pan"
        ],
        [
         "Zoom",
         "Zoom to rectangle\nx/y fixes axis, CTRL fixes aspect",
         "square-o",
         "zoom"
        ],
        [
         "Download",
         "Download plot",
         "floppy-o",
         "save_figure"
        ]
       ]
      }
     },
     "2916ae11bf7f41cfa1433802047d5f86": {
      "model_module": "@jupyter-widgets/base",
      "model_module_version": "1.2.0",
      "model_name": "LayoutModel",
      "state": {}
     },
     "291e6019ec124c9d8e53c07e0103a186": {
      "model_module": "jupyter-matplotlib",
      "model_module_version": "^0.7.4",
      "model_name": "ToolbarModel",
      "state": {
       "layout": "IPY_MODEL_499df3160b924c55abce57cbff565e11",
       "toolitems": [
        [
         "Home",
         "Reset original view",
         "home",
         "home"
        ],
        [
         "Back",
         "Back to previous view",
         "arrow-left",
         "back"
        ],
        [
         "Forward",
         "Forward to next view",
         "arrow-right",
         "forward"
        ],
        [
         "Pan",
         "Left button pans, Right button zooms\nx/y fixes axis, CTRL fixes aspect",
         "arrows",
         "pan"
        ],
        [
         "Zoom",
         "Zoom to rectangle\nx/y fixes axis, CTRL fixes aspect",
         "square-o",
         "zoom"
        ],
        [
         "Download",
         "Download plot",
         "floppy-o",
         "save_figure"
        ]
       ]
      }
     },
     "292d41bf700240a3b2435c1e07590f21": {
      "model_module": "@jupyter-widgets/base",
      "model_module_version": "1.2.0",
      "model_name": "LayoutModel",
      "state": {}
     },
     "293bad6cc2b441b1b12509e5254a6d53": {
      "model_module": "@jupyter-widgets/base",
      "model_module_version": "1.2.0",
      "model_name": "LayoutModel",
      "state": {}
     },
     "2b5a974731e44616b2af9a50a3ad944d": {
      "model_module": "@jupyter-widgets/base",
      "model_module_version": "1.2.0",
      "model_name": "LayoutModel",
      "state": {}
     },
     "2bcff30ce24d4887b77fa9977e0dfba6": {
      "model_module": "@jupyter-widgets/base",
      "model_module_version": "1.2.0",
      "model_name": "LayoutModel",
      "state": {}
     },
     "2cee0dd60152443db31c09ef2236b8e0": {
      "model_module": "jupyter-matplotlib",
      "model_module_version": "^0.7.4",
      "model_name": "ToolbarModel",
      "state": {
       "layout": "IPY_MODEL_3e5c755a65474c0d8824cb450b679182",
       "toolitems": [
        [
         "Home",
         "Reset original view",
         "home",
         "home"
        ],
        [
         "Back",
         "Back to previous view",
         "arrow-left",
         "back"
        ],
        [
         "Forward",
         "Forward to next view",
         "arrow-right",
         "forward"
        ],
        [
         "Pan",
         "Left button pans, Right button zooms\nx/y fixes axis, CTRL fixes aspect",
         "arrows",
         "pan"
        ],
        [
         "Zoom",
         "Zoom to rectangle\nx/y fixes axis, CTRL fixes aspect",
         "square-o",
         "zoom"
        ],
        [
         "Download",
         "Download plot",
         "floppy-o",
         "save_figure"
        ]
       ]
      }
     },
     "2d2366a31d91452793c09dbaf84785cc": {
      "model_module": "jupyter-matplotlib",
      "model_module_version": "^0.7.4",
      "model_name": "ToolbarModel",
      "state": {
       "layout": "IPY_MODEL_6fd26205b87141a5910cda77622d4061",
       "toolitems": [
        [
         "Home",
         "Reset original view",
         "home",
         "home"
        ],
        [
         "Back",
         "Back to previous view",
         "arrow-left",
         "back"
        ],
        [
         "Forward",
         "Forward to next view",
         "arrow-right",
         "forward"
        ],
        [
         "Pan",
         "Left button pans, Right button zooms\nx/y fixes axis, CTRL fixes aspect",
         "arrows",
         "pan"
        ],
        [
         "Zoom",
         "Zoom to rectangle\nx/y fixes axis, CTRL fixes aspect",
         "square-o",
         "zoom"
        ],
        [
         "Download",
         "Download plot",
         "floppy-o",
         "save_figure"
        ]
       ]
      }
     },
     "2fae8056bc9f4896ae7f71efb71417da": {
      "model_module": "@jupyter-widgets/base",
      "model_module_version": "1.2.0",
      "model_name": "LayoutModel",
      "state": {}
     },
     "3108c1fd0a3a490c8199af5820e6e3a5": {
      "model_module": "jupyter-matplotlib",
      "model_module_version": "^0.7.4",
      "model_name": "ToolbarModel",
      "state": {
       "layout": "IPY_MODEL_ae64b80c0fa049c595189b0ae297dcc7",
       "toolitems": [
        [
         "Home",
         "Reset original view",
         "home",
         "home"
        ],
        [
         "Back",
         "Back to previous view",
         "arrow-left",
         "back"
        ],
        [
         "Forward",
         "Forward to next view",
         "arrow-right",
         "forward"
        ],
        [
         "Pan",
         "Left button pans, Right button zooms\nx/y fixes axis, CTRL fixes aspect",
         "arrows",
         "pan"
        ],
        [
         "Zoom",
         "Zoom to rectangle\nx/y fixes axis, CTRL fixes aspect",
         "square-o",
         "zoom"
        ],
        [
         "Download",
         "Download plot",
         "floppy-o",
         "save_figure"
        ]
       ]
      }
     },
     "31274485b01e42188651e6b6ecdf2126": {
      "model_module": "@jupyter-widgets/base",
      "model_module_version": "1.2.0",
      "model_name": "LayoutModel",
      "state": {}
     },
     "3170d5ec2a2a4de18cb9e711b922bd8d": {
      "model_module": "jupyter-matplotlib",
      "model_module_version": "^0.7.4",
      "model_name": "ToolbarModel",
      "state": {
       "layout": "IPY_MODEL_d23587fab97144bbaa45e532574d57ec",
       "toolitems": [
        [
         "Home",
         "Reset original view",
         "home",
         "home"
        ],
        [
         "Back",
         "Back to previous view",
         "arrow-left",
         "back"
        ],
        [
         "Forward",
         "Forward to next view",
         "arrow-right",
         "forward"
        ],
        [
         "Pan",
         "Left button pans, Right button zooms\nx/y fixes axis, CTRL fixes aspect",
         "arrows",
         "pan"
        ],
        [
         "Zoom",
         "Zoom to rectangle\nx/y fixes axis, CTRL fixes aspect",
         "square-o",
         "zoom"
        ],
        [
         "Download",
         "Download plot",
         "floppy-o",
         "save_figure"
        ]
       ]
      }
     },
     "332a5f09e90942f9bb58822243e4615b": {
      "model_module": "@jupyter-widgets/base",
      "model_module_version": "1.2.0",
      "model_name": "LayoutModel",
      "state": {}
     },
     "33d6f4d4d1b44909acfbd6c3809c6fdb": {
      "model_module": "@jupyter-widgets/base",
      "model_module_version": "1.2.0",
      "model_name": "LayoutModel",
      "state": {}
     },
     "34c8caa005304e89aa01d894a2011e66": {
      "model_module": "@jupyter-widgets/base",
      "model_module_version": "1.2.0",
      "model_name": "LayoutModel",
      "state": {}
     },
     "359c019dae554784adf8eb95788a6561": {
      "model_module": "jupyter-matplotlib",
      "model_module_version": "^0.7.4",
      "model_name": "ToolbarModel",
      "state": {
       "layout": "IPY_MODEL_03bf59a7c7eb4c6ab5a94f0bcc71756d",
       "toolitems": [
        [
         "Home",
         "Reset original view",
         "home",
         "home"
        ],
        [
         "Back",
         "Back to previous view",
         "arrow-left",
         "back"
        ],
        [
         "Forward",
         "Forward to next view",
         "arrow-right",
         "forward"
        ],
        [
         "Pan",
         "Left button pans, Right button zooms\nx/y fixes axis, CTRL fixes aspect",
         "arrows",
         "pan"
        ],
        [
         "Zoom",
         "Zoom to rectangle\nx/y fixes axis, CTRL fixes aspect",
         "square-o",
         "zoom"
        ],
        [
         "Download",
         "Download plot",
         "floppy-o",
         "save_figure"
        ]
       ]
      }
     },
     "390cbcb56eab4f24b479a5db162712dc": {
      "model_module": "jupyter-matplotlib",
      "model_module_version": "^0.7.4",
      "model_name": "ToolbarModel",
      "state": {
       "layout": "IPY_MODEL_d4a4e156eb2746f89a64cb8fdef596e6",
       "toolitems": [
        [
         "Home",
         "Reset original view",
         "home",
         "home"
        ],
        [
         "Back",
         "Back to previous view",
         "arrow-left",
         "back"
        ],
        [
         "Forward",
         "Forward to next view",
         "arrow-right",
         "forward"
        ],
        [
         "Pan",
         "Left button pans, Right button zooms\nx/y fixes axis, CTRL fixes aspect",
         "arrows",
         "pan"
        ],
        [
         "Zoom",
         "Zoom to rectangle\nx/y fixes axis, CTRL fixes aspect",
         "square-o",
         "zoom"
        ],
        [
         "Download",
         "Download plot",
         "floppy-o",
         "save_figure"
        ]
       ]
      }
     },
     "3a07ec388cad49b086db79cfe37052e3": {
      "model_module": "@jupyter-widgets/base",
      "model_module_version": "1.2.0",
      "model_name": "LayoutModel",
      "state": {}
     },
     "3ab850e3e357463992c6afcf26de4cb9": {
      "model_module": "@jupyter-widgets/base",
      "model_module_version": "1.2.0",
      "model_name": "LayoutModel",
      "state": {}
     },
     "3b819f9ca286412981ec2447de3b20c3": {
      "model_module": "@jupyter-widgets/base",
      "model_module_version": "1.2.0",
      "model_name": "LayoutModel",
      "state": {}
     },
     "3c09771b204b4dcfa86c6775eef6e6f4": {
      "model_module": "@jupyter-widgets/base",
      "model_module_version": "1.2.0",
      "model_name": "LayoutModel",
      "state": {}
     },
     "3d1a38027ad649d185c8635e91195d80": {
      "model_module": "@jupyter-widgets/base",
      "model_module_version": "1.2.0",
      "model_name": "LayoutModel",
      "state": {}
     },
     "3e01ab05025247e4815bed70dd2dd17c": {
      "model_module": "jupyter-matplotlib",
      "model_module_version": "^0.7.4",
      "model_name": "ToolbarModel",
      "state": {
       "layout": "IPY_MODEL_53043ea686584dc890cf46527bfbd2fc",
       "toolitems": [
        [
         "Home",
         "Reset original view",
         "home",
         "home"
        ],
        [
         "Back",
         "Back to previous view",
         "arrow-left",
         "back"
        ],
        [
         "Forward",
         "Forward to next view",
         "arrow-right",
         "forward"
        ],
        [
         "Pan",
         "Left button pans, Right button zooms\nx/y fixes axis, CTRL fixes aspect",
         "arrows",
         "pan"
        ],
        [
         "Zoom",
         "Zoom to rectangle\nx/y fixes axis, CTRL fixes aspect",
         "square-o",
         "zoom"
        ],
        [
         "Download",
         "Download plot",
         "floppy-o",
         "save_figure"
        ]
       ]
      }
     },
     "3e5c755a65474c0d8824cb450b679182": {
      "model_module": "@jupyter-widgets/base",
      "model_module_version": "1.2.0",
      "model_name": "LayoutModel",
      "state": {}
     },
     "3f06541141ad4a30b9fbfa9c14e55fde": {
      "model_module": "jupyter-matplotlib",
      "model_module_version": "^0.7.4",
      "model_name": "ToolbarModel",
      "state": {
       "layout": "IPY_MODEL_a344a3044bd243beaf1592f46ac4e0dc",
       "toolitems": [
        [
         "Home",
         "Reset original view",
         "home",
         "home"
        ],
        [
         "Back",
         "Back to previous view",
         "arrow-left",
         "back"
        ],
        [
         "Forward",
         "Forward to next view",
         "arrow-right",
         "forward"
        ],
        [
         "Pan",
         "Left button pans, Right button zooms\nx/y fixes axis, CTRL fixes aspect",
         "arrows",
         "pan"
        ],
        [
         "Zoom",
         "Zoom to rectangle\nx/y fixes axis, CTRL fixes aspect",
         "square-o",
         "zoom"
        ],
        [
         "Download",
         "Download plot",
         "floppy-o",
         "save_figure"
        ]
       ]
      }
     },
     "3f15f6403f234c688647c1fe35fa762f": {
      "model_module": "@jupyter-widgets/base",
      "model_module_version": "1.2.0",
      "model_name": "LayoutModel",
      "state": {}
     },
     "3f1d2ebec51e4073951c9e2bbf3e4047": {
      "model_module": "jupyter-matplotlib",
      "model_module_version": "^0.7.4",
      "model_name": "ToolbarModel",
      "state": {
       "layout": "IPY_MODEL_911840036d9743a0bd2c16eab06bc78b",
       "toolitems": [
        [
         "Home",
         "Reset original view",
         "home",
         "home"
        ],
        [
         "Back",
         "Back to previous view",
         "arrow-left",
         "back"
        ],
        [
         "Forward",
         "Forward to next view",
         "arrow-right",
         "forward"
        ],
        [
         "Pan",
         "Left button pans, Right button zooms\nx/y fixes axis, CTRL fixes aspect",
         "arrows",
         "pan"
        ],
        [
         "Zoom",
         "Zoom to rectangle\nx/y fixes axis, CTRL fixes aspect",
         "square-o",
         "zoom"
        ],
        [
         "Download",
         "Download plot",
         "floppy-o",
         "save_figure"
        ]
       ]
      }
     },
     "40d768dfe1a44d5483cef6ac1ee256a5": {
      "model_module": "jupyter-matplotlib",
      "model_module_version": "^0.7.4",
      "model_name": "ToolbarModel",
      "state": {
       "layout": "IPY_MODEL_d197577ffd6648539779ce0a0de95c84",
       "toolitems": [
        [
         "Home",
         "Reset original view",
         "home",
         "home"
        ],
        [
         "Back",
         "Back to previous view",
         "arrow-left",
         "back"
        ],
        [
         "Forward",
         "Forward to next view",
         "arrow-right",
         "forward"
        ],
        [
         "Pan",
         "Left button pans, Right button zooms\nx/y fixes axis, CTRL fixes aspect",
         "arrows",
         "pan"
        ],
        [
         "Zoom",
         "Zoom to rectangle\nx/y fixes axis, CTRL fixes aspect",
         "square-o",
         "zoom"
        ],
        [
         "Download",
         "Download plot",
         "floppy-o",
         "save_figure"
        ]
       ]
      }
     },
     "413ea83e667342979e6e3006d22004d0": {
      "model_module": "@jupyter-widgets/base",
      "model_module_version": "1.2.0",
      "model_name": "LayoutModel",
      "state": {}
     },
     "415be0ccd7294bbda037e1c2a539611b": {
      "model_module": "jupyter-matplotlib",
      "model_module_version": "^0.7.4",
      "model_name": "ToolbarModel",
      "state": {
       "layout": "IPY_MODEL_6f65ff2494e441f78d4a38a0c6be22f8",
       "toolitems": [
        [
         "Home",
         "Reset original view",
         "home",
         "home"
        ],
        [
         "Back",
         "Back to previous view",
         "arrow-left",
         "back"
        ],
        [
         "Forward",
         "Forward to next view",
         "arrow-right",
         "forward"
        ],
        [
         "Pan",
         "Left button pans, Right button zooms\nx/y fixes axis, CTRL fixes aspect",
         "arrows",
         "pan"
        ],
        [
         "Zoom",
         "Zoom to rectangle\nx/y fixes axis, CTRL fixes aspect",
         "square-o",
         "zoom"
        ],
        [
         "Download",
         "Download plot",
         "floppy-o",
         "save_figure"
        ]
       ]
      }
     },
     "416cab9e4bf54159bf26001e8a7c664c": {
      "model_module": "jupyter-matplotlib",
      "model_module_version": "^0.7.4",
      "model_name": "ToolbarModel",
      "state": {
       "layout": "IPY_MODEL_0a56ffba4a82408dbaa4a55c1abe091f",
       "toolitems": [
        [
         "Home",
         "Reset original view",
         "home",
         "home"
        ],
        [
         "Back",
         "Back to previous view",
         "arrow-left",
         "back"
        ],
        [
         "Forward",
         "Forward to next view",
         "arrow-right",
         "forward"
        ],
        [
         "Pan",
         "Left button pans, Right button zooms\nx/y fixes axis, CTRL fixes aspect",
         "arrows",
         "pan"
        ],
        [
         "Zoom",
         "Zoom to rectangle\nx/y fixes axis, CTRL fixes aspect",
         "square-o",
         "zoom"
        ],
        [
         "Download",
         "Download plot",
         "floppy-o",
         "save_figure"
        ]
       ]
      }
     },
     "41a1d9c87d8d421fbdb52cab6b99b876": {
      "model_module": "@jupyter-widgets/base",
      "model_module_version": "1.2.0",
      "model_name": "LayoutModel",
      "state": {}
     },
     "432e267a3a2b4710af4ff9194d45323c": {
      "model_module": "@jupyter-widgets/base",
      "model_module_version": "1.2.0",
      "model_name": "LayoutModel",
      "state": {}
     },
     "4365f18a0b584c90bfcd406aa374c6c9": {
      "model_module": "@jupyter-widgets/base",
      "model_module_version": "1.2.0",
      "model_name": "LayoutModel",
      "state": {}
     },
     "48edf5e70da0454dbb223402a15f6dc1": {
      "model_module": "@jupyter-widgets/base",
      "model_module_version": "1.2.0",
      "model_name": "LayoutModel",
      "state": {}
     },
     "499df3160b924c55abce57cbff565e11": {
      "model_module": "@jupyter-widgets/base",
      "model_module_version": "1.2.0",
      "model_name": "LayoutModel",
      "state": {}
     },
     "4b046a3c67b34a62827ad3d975ae1746": {
      "model_module": "jupyter-matplotlib",
      "model_module_version": "^0.7.4",
      "model_name": "ToolbarModel",
      "state": {
       "layout": "IPY_MODEL_630c01b9f68b4f3ea9fa7445bfcfcb89",
       "toolitems": [
        [
         "Home",
         "Reset original view",
         "home",
         "home"
        ],
        [
         "Back",
         "Back to previous view",
         "arrow-left",
         "back"
        ],
        [
         "Forward",
         "Forward to next view",
         "arrow-right",
         "forward"
        ],
        [
         "Pan",
         "Left button pans, Right button zooms\nx/y fixes axis, CTRL fixes aspect",
         "arrows",
         "pan"
        ],
        [
         "Zoom",
         "Zoom to rectangle\nx/y fixes axis, CTRL fixes aspect",
         "square-o",
         "zoom"
        ],
        [
         "Download",
         "Download plot",
         "floppy-o",
         "save_figure"
        ]
       ]
      }
     },
     "4c3296a6df63432897abcb092a92f7e6": {
      "model_module": "@jupyter-widgets/base",
      "model_module_version": "1.2.0",
      "model_name": "LayoutModel",
      "state": {}
     },
     "4d12467d771743bca113272a610bb924": {
      "model_module": "@jupyter-widgets/base",
      "model_module_version": "1.2.0",
      "model_name": "LayoutModel",
      "state": {}
     },
     "4df5f76e72eb495b90d81c883d815b02": {
      "model_module": "@jupyter-widgets/base",
      "model_module_version": "1.2.0",
      "model_name": "LayoutModel",
      "state": {}
     },
     "4ea169b2532149d1ae0fe68f9f6799e9": {
      "model_module": "jupyter-matplotlib",
      "model_module_version": "^0.7.4",
      "model_name": "ToolbarModel",
      "state": {
       "layout": "IPY_MODEL_c492e6bab3114543b8a4be15b16a13cd",
       "toolitems": [
        [
         "Home",
         "Reset original view",
         "home",
         "home"
        ],
        [
         "Back",
         "Back to previous view",
         "arrow-left",
         "back"
        ],
        [
         "Forward",
         "Forward to next view",
         "arrow-right",
         "forward"
        ],
        [
         "Pan",
         "Left button pans, Right button zooms\nx/y fixes axis, CTRL fixes aspect",
         "arrows",
         "pan"
        ],
        [
         "Zoom",
         "Zoom to rectangle\nx/y fixes axis, CTRL fixes aspect",
         "square-o",
         "zoom"
        ],
        [
         "Download",
         "Download plot",
         "floppy-o",
         "save_figure"
        ]
       ]
      }
     },
     "4ee4712368cb4183b0fda879c0fc6476": {
      "model_module": "@jupyter-widgets/base",
      "model_module_version": "1.2.0",
      "model_name": "LayoutModel",
      "state": {}
     },
     "4f54a3c1324d4f03bf19e0c0dbdeb7f4": {
      "model_module": "@jupyter-widgets/base",
      "model_module_version": "1.2.0",
      "model_name": "LayoutModel",
      "state": {}
     },
     "4fedbcdd81424ecc9ac681f28f400a60": {
      "model_module": "jupyter-matplotlib",
      "model_module_version": "^0.7.4",
      "model_name": "MPLCanvasModel",
      "state": {
       "_cursor": "default",
       "_figure_label": "Figure 3",
       "_height": 800,
       "_width": 1000,
       "layout": "IPY_MODEL_b7b00909254c4da88d3c142718b3deca",
       "toolbar": "IPY_MODEL_72d70128c8d84f38afbf2b02c595ce5a",
       "toolbar_position": "left"
      }
     },
     "4ffe74c908a14d2a99c99d8d4bab1825": {
      "model_module": "jupyter-matplotlib",
      "model_module_version": "^0.7.4",
      "model_name": "ToolbarModel",
      "state": {
       "layout": "IPY_MODEL_6bc2c242d58e4b49914c70d9d927b832",
       "toolitems": [
        [
         "Home",
         "Reset original view",
         "home",
         "home"
        ],
        [
         "Back",
         "Back to previous view",
         "arrow-left",
         "back"
        ],
        [
         "Forward",
         "Forward to next view",
         "arrow-right",
         "forward"
        ],
        [
         "Pan",
         "Left button pans, Right button zooms\nx/y fixes axis, CTRL fixes aspect",
         "arrows",
         "pan"
        ],
        [
         "Zoom",
         "Zoom to rectangle\nx/y fixes axis, CTRL fixes aspect",
         "square-o",
         "zoom"
        ],
        [
         "Download",
         "Download plot",
         "floppy-o",
         "save_figure"
        ]
       ]
      }
     },
     "50c025eec8354a98b169e190f06c2a53": {
      "model_module": "@jupyter-widgets/base",
      "model_module_version": "1.2.0",
      "model_name": "LayoutModel",
      "state": {}
     },
     "53043ea686584dc890cf46527bfbd2fc": {
      "model_module": "@jupyter-widgets/base",
      "model_module_version": "1.2.0",
      "model_name": "LayoutModel",
      "state": {}
     },
     "543b3784563143fabe9cc01141178411": {
      "model_module": "@jupyter-widgets/base",
      "model_module_version": "1.2.0",
      "model_name": "LayoutModel",
      "state": {}
     },
     "545fe2c991e64d4e957ac02387c05cd7": {
      "model_module": "@jupyter-widgets/base",
      "model_module_version": "1.2.0",
      "model_name": "LayoutModel",
      "state": {}
     },
     "54f9ca0211524e43a5d6f5273be3d50e": {
      "model_module": "@jupyter-widgets/base",
      "model_module_version": "1.2.0",
      "model_name": "LayoutModel",
      "state": {}
     },
     "562decff464f41368ec3ed4a2563405d": {
      "model_module": "@jupyter-widgets/base",
      "model_module_version": "1.2.0",
      "model_name": "LayoutModel",
      "state": {}
     },
     "5742e4c9e2ed42328a0041f38d178b35": {
      "model_module": "@jupyter-widgets/base",
      "model_module_version": "1.2.0",
      "model_name": "LayoutModel",
      "state": {}
     },
     "5c7bc4af5df74b29a06a8e4b5f3ab88b": {
      "model_module": "jupyter-matplotlib",
      "model_module_version": "^0.7.4",
      "model_name": "ToolbarModel",
      "state": {
       "layout": "IPY_MODEL_4c3296a6df63432897abcb092a92f7e6",
       "toolitems": [
        [
         "Home",
         "Reset original view",
         "home",
         "home"
        ],
        [
         "Back",
         "Back to previous view",
         "arrow-left",
         "back"
        ],
        [
         "Forward",
         "Forward to next view",
         "arrow-right",
         "forward"
        ],
        [
         "Pan",
         "Left button pans, Right button zooms\nx/y fixes axis, CTRL fixes aspect",
         "arrows",
         "pan"
        ],
        [
         "Zoom",
         "Zoom to rectangle\nx/y fixes axis, CTRL fixes aspect",
         "square-o",
         "zoom"
        ],
        [
         "Download",
         "Download plot",
         "floppy-o",
         "save_figure"
        ]
       ]
      }
     },
     "5cfe301410b5432995edbdaaaca87013": {
      "model_module": "@jupyter-widgets/base",
      "model_module_version": "1.2.0",
      "model_name": "LayoutModel",
      "state": {}
     },
     "5e450fde761543cbaea4e0eec5de851d": {
      "model_module": "@jupyter-widgets/base",
      "model_module_version": "1.2.0",
      "model_name": "LayoutModel",
      "state": {}
     },
     "5e898d07471a4a3d9928f84acec09e7c": {
      "model_module": "jupyter-matplotlib",
      "model_module_version": "^0.7.4",
      "model_name": "ToolbarModel",
      "state": {
       "layout": "IPY_MODEL_fbcd0d9d5df24997930bc6c4d7422017",
       "toolitems": [
        [
         "Home",
         "Reset original view",
         "home",
         "home"
        ],
        [
         "Back",
         "Back to previous view",
         "arrow-left",
         "back"
        ],
        [
         "Forward",
         "Forward to next view",
         "arrow-right",
         "forward"
        ],
        [
         "Pan",
         "Left button pans, Right button zooms\nx/y fixes axis, CTRL fixes aspect",
         "arrows",
         "pan"
        ],
        [
         "Zoom",
         "Zoom to rectangle\nx/y fixes axis, CTRL fixes aspect",
         "square-o",
         "zoom"
        ],
        [
         "Download",
         "Download plot",
         "floppy-o",
         "save_figure"
        ]
       ]
      }
     },
     "5f704bc2cd2e4331a5a4722d0c22e33b": {
      "model_module": "@jupyter-widgets/base",
      "model_module_version": "1.2.0",
      "model_name": "LayoutModel",
      "state": {}
     },
     "610b3a6b5c4c4cfa87d29e7ab4571642": {
      "model_module": "@jupyter-widgets/base",
      "model_module_version": "1.2.0",
      "model_name": "LayoutModel",
      "state": {}
     },
     "6129044cb22c463d8d17827cbd81ca22": {
      "model_module": "@jupyter-widgets/base",
      "model_module_version": "1.2.0",
      "model_name": "LayoutModel",
      "state": {}
     },
     "6224a41b2269441b855b3a59e241ea1b": {
      "model_module": "@jupyter-widgets/base",
      "model_module_version": "1.2.0",
      "model_name": "LayoutModel",
      "state": {}
     },
     "62d92ab8b9ef4b1b970b4046898586d3": {
      "model_module": "@jupyter-widgets/base",
      "model_module_version": "1.2.0",
      "model_name": "LayoutModel",
      "state": {}
     },
     "630c01b9f68b4f3ea9fa7445bfcfcb89": {
      "model_module": "@jupyter-widgets/base",
      "model_module_version": "1.2.0",
      "model_name": "LayoutModel",
      "state": {}
     },
     "63750f2dc15f44ae854a16bce71d03c1": {
      "model_module": "jupyter-matplotlib",
      "model_module_version": "^0.7.4",
      "model_name": "ToolbarModel",
      "state": {
       "layout": "IPY_MODEL_f5230ad2f3bc48eb86353d9d9349c049",
       "toolitems": [
        [
         "Home",
         "Reset original view",
         "home",
         "home"
        ],
        [
         "Back",
         "Back to previous view",
         "arrow-left",
         "back"
        ],
        [
         "Forward",
         "Forward to next view",
         "arrow-right",
         "forward"
        ],
        [
         "Pan",
         "Left button pans, Right button zooms\nx/y fixes axis, CTRL fixes aspect",
         "arrows",
         "pan"
        ],
        [
         "Zoom",
         "Zoom to rectangle\nx/y fixes axis, CTRL fixes aspect",
         "square-o",
         "zoom"
        ],
        [
         "Download",
         "Download plot",
         "floppy-o",
         "save_figure"
        ]
       ]
      }
     },
     "639fe66c7b7c4cc0a00d41d0c7505fed": {
      "model_module": "jupyter-matplotlib",
      "model_module_version": "^0.7.4",
      "model_name": "ToolbarModel",
      "state": {
       "layout": "IPY_MODEL_dbc2a09999a54e1187c395a344cf3ee7",
       "toolitems": [
        [
         "Home",
         "Reset original view",
         "home",
         "home"
        ],
        [
         "Back",
         "Back to previous view",
         "arrow-left",
         "back"
        ],
        [
         "Forward",
         "Forward to next view",
         "arrow-right",
         "forward"
        ],
        [
         "Pan",
         "Left button pans, Right button zooms\nx/y fixes axis, CTRL fixes aspect",
         "arrows",
         "pan"
        ],
        [
         "Zoom",
         "Zoom to rectangle\nx/y fixes axis, CTRL fixes aspect",
         "square-o",
         "zoom"
        ],
        [
         "Download",
         "Download plot",
         "floppy-o",
         "save_figure"
        ]
       ]
      }
     },
     "666d08747d2f4b05a3bb3bbc7c982416": {
      "model_module": "@jupyter-widgets/base",
      "model_module_version": "1.2.0",
      "model_name": "LayoutModel",
      "state": {}
     },
     "676734d60aad446b8b60e20779ad7d0c": {
      "model_module": "@jupyter-widgets/base",
      "model_module_version": "1.2.0",
      "model_name": "LayoutModel",
      "state": {}
     },
     "6857f1c67f474988b695842ce2b5e1dc": {
      "model_module": "jupyter-matplotlib",
      "model_module_version": "^0.7.4",
      "model_name": "ToolbarModel",
      "state": {
       "layout": "IPY_MODEL_3ab850e3e357463992c6afcf26de4cb9",
       "toolitems": [
        [
         "Home",
         "Reset original view",
         "home",
         "home"
        ],
        [
         "Back",
         "Back to previous view",
         "arrow-left",
         "back"
        ],
        [
         "Forward",
         "Forward to next view",
         "arrow-right",
         "forward"
        ],
        [
         "Pan",
         "Left button pans, Right button zooms\nx/y fixes axis, CTRL fixes aspect",
         "arrows",
         "pan"
        ],
        [
         "Zoom",
         "Zoom to rectangle\nx/y fixes axis, CTRL fixes aspect",
         "square-o",
         "zoom"
        ],
        [
         "Download",
         "Download plot",
         "floppy-o",
         "save_figure"
        ]
       ]
      }
     },
     "6bc2c242d58e4b49914c70d9d927b832": {
      "model_module": "@jupyter-widgets/base",
      "model_module_version": "1.2.0",
      "model_name": "LayoutModel",
      "state": {}
     },
     "6c38d79a9d344af4886a8f0dc50f21cc": {
      "model_module": "jupyter-matplotlib",
      "model_module_version": "^0.7.4",
      "model_name": "ToolbarModel",
      "state": {
       "_current_action": "zoom",
       "layout": "IPY_MODEL_7f0ee81709734dc19028bb1de2f5674b",
       "toolitems": [
        [
         "Home",
         "Reset original view",
         "home",
         "home"
        ],
        [
         "Back",
         "Back to previous view",
         "arrow-left",
         "back"
        ],
        [
         "Forward",
         "Forward to next view",
         "arrow-right",
         "forward"
        ],
        [
         "Pan",
         "Left button pans, Right button zooms\nx/y fixes axis, CTRL fixes aspect",
         "arrows",
         "pan"
        ],
        [
         "Zoom",
         "Zoom to rectangle\nx/y fixes axis, CTRL fixes aspect",
         "square-o",
         "zoom"
        ],
        [
         "Download",
         "Download plot",
         "floppy-o",
         "save_figure"
        ]
       ]
      }
     },
     "6ea1d4cd46f9498cb8ba4aa94e1aba1e": {
      "model_module": "jupyter-matplotlib",
      "model_module_version": "^0.7.4",
      "model_name": "ToolbarModel",
      "state": {
       "layout": "IPY_MODEL_4f54a3c1324d4f03bf19e0c0dbdeb7f4",
       "toolitems": [
        [
         "Home",
         "Reset original view",
         "home",
         "home"
        ],
        [
         "Back",
         "Back to previous view",
         "arrow-left",
         "back"
        ],
        [
         "Forward",
         "Forward to next view",
         "arrow-right",
         "forward"
        ],
        [
         "Pan",
         "Left button pans, Right button zooms\nx/y fixes axis, CTRL fixes aspect",
         "arrows",
         "pan"
        ],
        [
         "Zoom",
         "Zoom to rectangle\nx/y fixes axis, CTRL fixes aspect",
         "square-o",
         "zoom"
        ],
        [
         "Download",
         "Download plot",
         "floppy-o",
         "save_figure"
        ]
       ]
      }
     },
     "6eab65062b994136b42aa04ba92f533f": {
      "model_module": "@jupyter-widgets/base",
      "model_module_version": "1.2.0",
      "model_name": "LayoutModel",
      "state": {}
     },
     "6f65ff2494e441f78d4a38a0c6be22f8": {
      "model_module": "@jupyter-widgets/base",
      "model_module_version": "1.2.0",
      "model_name": "LayoutModel",
      "state": {}
     },
     "6f8d3ccf19344b5badc4fc6243bf26e0": {
      "model_module": "@jupyter-widgets/base",
      "model_module_version": "1.2.0",
      "model_name": "LayoutModel",
      "state": {}
     },
     "6fd26205b87141a5910cda77622d4061": {
      "model_module": "@jupyter-widgets/base",
      "model_module_version": "1.2.0",
      "model_name": "LayoutModel",
      "state": {}
     },
     "7285e70bcf53424b8852bd159293e6e7": {
      "model_module": "@jupyter-widgets/base",
      "model_module_version": "1.2.0",
      "model_name": "LayoutModel",
      "state": {}
     },
     "72d70128c8d84f38afbf2b02c595ce5a": {
      "model_module": "jupyter-matplotlib",
      "model_module_version": "^0.7.4",
      "model_name": "ToolbarModel",
      "state": {
       "layout": "IPY_MODEL_9cc5d37f6530417fab44362ab56818dc",
       "toolitems": [
        [
         "Home",
         "Reset original view",
         "home",
         "home"
        ],
        [
         "Back",
         "Back to previous view",
         "arrow-left",
         "back"
        ],
        [
         "Forward",
         "Forward to next view",
         "arrow-right",
         "forward"
        ],
        [
         "Pan",
         "Left button pans, Right button zooms\nx/y fixes axis, CTRL fixes aspect",
         "arrows",
         "pan"
        ],
        [
         "Zoom",
         "Zoom to rectangle\nx/y fixes axis, CTRL fixes aspect",
         "square-o",
         "zoom"
        ],
        [
         "Download",
         "Download plot",
         "floppy-o",
         "save_figure"
        ]
       ]
      }
     },
     "766840a7860f4be5a98d015d0574e126": {
      "model_module": "@jupyter-widgets/base",
      "model_module_version": "1.2.0",
      "model_name": "LayoutModel",
      "state": {}
     },
     "78f95d82a2d94acf8ecd2f419924fa7a": {
      "model_module": "jupyter-matplotlib",
      "model_module_version": "^0.7.4",
      "model_name": "ToolbarModel",
      "state": {
       "layout": "IPY_MODEL_a100518df16149b482fcdd44e887e6b8",
       "toolitems": [
        [
         "Home",
         "Reset original view",
         "home",
         "home"
        ],
        [
         "Back",
         "Back to previous view",
         "arrow-left",
         "back"
        ],
        [
         "Forward",
         "Forward to next view",
         "arrow-right",
         "forward"
        ],
        [
         "Pan",
         "Left button pans, Right button zooms\nx/y fixes axis, CTRL fixes aspect",
         "arrows",
         "pan"
        ],
        [
         "Zoom",
         "Zoom to rectangle\nx/y fixes axis, CTRL fixes aspect",
         "square-o",
         "zoom"
        ],
        [
         "Download",
         "Download plot",
         "floppy-o",
         "save_figure"
        ]
       ]
      }
     },
     "794c87ae0bdd4a3192f4f1d6945033c3": {
      "model_module": "@jupyter-widgets/base",
      "model_module_version": "1.2.0",
      "model_name": "LayoutModel",
      "state": {}
     },
     "798d1a5494a84be0b0e9dab8b08b63df": {
      "model_module": "@jupyter-widgets/base",
      "model_module_version": "1.2.0",
      "model_name": "LayoutModel",
      "state": {}
     },
     "7a780100435d41249e15464ca42b75b7": {
      "model_module": "@jupyter-widgets/base",
      "model_module_version": "1.2.0",
      "model_name": "LayoutModel",
      "state": {}
     },
     "7ab4513bdf2d4931bf2c0205c5f7d892": {
      "model_module": "@jupyter-widgets/base",
      "model_module_version": "1.2.0",
      "model_name": "LayoutModel",
      "state": {}
     },
     "7f0ee81709734dc19028bb1de2f5674b": {
      "model_module": "@jupyter-widgets/base",
      "model_module_version": "1.2.0",
      "model_name": "LayoutModel",
      "state": {}
     },
     "8163960e18c948cc97d0eed5ef5b2b34": {
      "model_module": "@jupyter-widgets/base",
      "model_module_version": "1.2.0",
      "model_name": "LayoutModel",
      "state": {}
     },
     "81674767adcc42d7b4e581388563db58": {
      "model_module": "@jupyter-widgets/base",
      "model_module_version": "1.2.0",
      "model_name": "LayoutModel",
      "state": {}
     },
     "817cf75e60ab453dac35c3b84551621c": {
      "model_module": "@jupyter-widgets/base",
      "model_module_version": "1.2.0",
      "model_name": "LayoutModel",
      "state": {}
     },
     "8377e0b3d117448981adb8ba85a8b3ce": {
      "model_module": "jupyter-matplotlib",
      "model_module_version": "^0.7.4",
      "model_name": "ToolbarModel",
      "state": {
       "layout": "IPY_MODEL_d02681fff2ee4bfb8e5eedeee75f1237",
       "toolitems": [
        [
         "Home",
         "Reset original view",
         "home",
         "home"
        ],
        [
         "Back",
         "Back to previous view",
         "arrow-left",
         "back"
        ],
        [
         "Forward",
         "Forward to next view",
         "arrow-right",
         "forward"
        ],
        [
         "Pan",
         "Left button pans, Right button zooms\nx/y fixes axis, CTRL fixes aspect",
         "arrows",
         "pan"
        ],
        [
         "Zoom",
         "Zoom to rectangle\nx/y fixes axis, CTRL fixes aspect",
         "square-o",
         "zoom"
        ],
        [
         "Download",
         "Download plot",
         "floppy-o",
         "save_figure"
        ]
       ]
      }
     },
     "85dd24c1dd3c49f1bfd556cc037265d8": {
      "model_module": "@jupyter-widgets/base",
      "model_module_version": "1.2.0",
      "model_name": "LayoutModel",
      "state": {}
     },
     "8607598d387d492e90427ebecf4c350c": {
      "model_module": "@jupyter-widgets/base",
      "model_module_version": "1.2.0",
      "model_name": "LayoutModel",
      "state": {}
     },
     "8615a85b5e454210a56f4e3c513e9694": {
      "model_module": "jupyter-matplotlib",
      "model_module_version": "^0.7.4",
      "model_name": "ToolbarModel",
      "state": {
       "layout": "IPY_MODEL_25c782b37b5347ab9597b5aee15ce35d",
       "toolitems": [
        [
         "Home",
         "Reset original view",
         "home",
         "home"
        ],
        [
         "Back",
         "Back to previous view",
         "arrow-left",
         "back"
        ],
        [
         "Forward",
         "Forward to next view",
         "arrow-right",
         "forward"
        ],
        [
         "Pan",
         "Left button pans, Right button zooms\nx/y fixes axis, CTRL fixes aspect",
         "arrows",
         "pan"
        ],
        [
         "Zoom",
         "Zoom to rectangle\nx/y fixes axis, CTRL fixes aspect",
         "square-o",
         "zoom"
        ],
        [
         "Download",
         "Download plot",
         "floppy-o",
         "save_figure"
        ]
       ]
      }
     },
     "874c8e127c04433380d89bedb6074dde": {
      "model_module": "@jupyter-widgets/base",
      "model_module_version": "1.2.0",
      "model_name": "LayoutModel",
      "state": {}
     },
     "8b293799986347e8931556e2c83a396e": {
      "model_module": "@jupyter-widgets/base",
      "model_module_version": "1.2.0",
      "model_name": "LayoutModel",
      "state": {}
     },
     "8bc957549c9142f2babcaffbe8cffeae": {
      "model_module": "@jupyter-widgets/base",
      "model_module_version": "1.2.0",
      "model_name": "LayoutModel",
      "state": {}
     },
     "8bd40c9bc2e04e6c9492c26d3e4426eb": {
      "model_module": "jupyter-matplotlib",
      "model_module_version": "^0.7.4",
      "model_name": "ToolbarModel",
      "state": {
       "layout": "IPY_MODEL_b5b08d519e7d466fb32ffa2d64d3c274",
       "toolitems": [
        [
         "Home",
         "Reset original view",
         "home",
         "home"
        ],
        [
         "Back",
         "Back to previous view",
         "arrow-left",
         "back"
        ],
        [
         "Forward",
         "Forward to next view",
         "arrow-right",
         "forward"
        ],
        [
         "Pan",
         "Left button pans, Right button zooms\nx/y fixes axis, CTRL fixes aspect",
         "arrows",
         "pan"
        ],
        [
         "Zoom",
         "Zoom to rectangle\nx/y fixes axis, CTRL fixes aspect",
         "square-o",
         "zoom"
        ],
        [
         "Download",
         "Download plot",
         "floppy-o",
         "save_figure"
        ]
       ]
      }
     },
     "8d3975f06557475586e279183ed93b78": {
      "model_module": "@jupyter-widgets/base",
      "model_module_version": "1.2.0",
      "model_name": "LayoutModel",
      "state": {}
     },
     "905e7c6b6df84dc0bb7df67e37a68380": {
      "model_module": "jupyter-matplotlib",
      "model_module_version": "^0.7.4",
      "model_name": "ToolbarModel",
      "state": {
       "layout": "IPY_MODEL_34c8caa005304e89aa01d894a2011e66",
       "toolitems": [
        [
         "Home",
         "Reset original view",
         "home",
         "home"
        ],
        [
         "Back",
         "Back to previous view",
         "arrow-left",
         "back"
        ],
        [
         "Forward",
         "Forward to next view",
         "arrow-right",
         "forward"
        ],
        [
         "Pan",
         "Left button pans, Right button zooms\nx/y fixes axis, CTRL fixes aspect",
         "arrows",
         "pan"
        ],
        [
         "Zoom",
         "Zoom to rectangle\nx/y fixes axis, CTRL fixes aspect",
         "square-o",
         "zoom"
        ],
        [
         "Download",
         "Download plot",
         "floppy-o",
         "save_figure"
        ]
       ]
      }
     },
     "90b2fd47ce4d4b4ab1193d542ee9b461": {
      "model_module": "@jupyter-widgets/base",
      "model_module_version": "1.2.0",
      "model_name": "LayoutModel",
      "state": {}
     },
     "911840036d9743a0bd2c16eab06bc78b": {
      "model_module": "@jupyter-widgets/base",
      "model_module_version": "1.2.0",
      "model_name": "LayoutModel",
      "state": {}
     },
     "912410f9850342be98310d43e8b90815": {
      "model_module": "jupyter-matplotlib",
      "model_module_version": "^0.7.4",
      "model_name": "ToolbarModel",
      "state": {
       "layout": "IPY_MODEL_2b5a974731e44616b2af9a50a3ad944d",
       "toolitems": [
        [
         "Home",
         "Reset original view",
         "home",
         "home"
        ],
        [
         "Back",
         "Back to previous view",
         "arrow-left",
         "back"
        ],
        [
         "Forward",
         "Forward to next view",
         "arrow-right",
         "forward"
        ],
        [
         "Pan",
         "Left button pans, Right button zooms\nx/y fixes axis, CTRL fixes aspect",
         "arrows",
         "pan"
        ],
        [
         "Zoom",
         "Zoom to rectangle\nx/y fixes axis, CTRL fixes aspect",
         "square-o",
         "zoom"
        ],
        [
         "Download",
         "Download plot",
         "floppy-o",
         "save_figure"
        ]
       ]
      }
     },
     "91d6eb6845794d0cb7e87884950fc100": {
      "model_module": "jupyter-matplotlib",
      "model_module_version": "^0.7.4",
      "model_name": "ToolbarModel",
      "state": {
       "layout": "IPY_MODEL_5e450fde761543cbaea4e0eec5de851d",
       "toolitems": [
        [
         "Home",
         "Reset original view",
         "home",
         "home"
        ],
        [
         "Back",
         "Back to previous view",
         "arrow-left",
         "back"
        ],
        [
         "Forward",
         "Forward to next view",
         "arrow-right",
         "forward"
        ],
        [
         "Pan",
         "Left button pans, Right button zooms\nx/y fixes axis, CTRL fixes aspect",
         "arrows",
         "pan"
        ],
        [
         "Zoom",
         "Zoom to rectangle\nx/y fixes axis, CTRL fixes aspect",
         "square-o",
         "zoom"
        ],
        [
         "Download",
         "Download plot",
         "floppy-o",
         "save_figure"
        ]
       ]
      }
     },
     "92d68b9e3c4648979e96503d58710935": {
      "model_module": "@jupyter-widgets/base",
      "model_module_version": "1.2.0",
      "model_name": "LayoutModel",
      "state": {}
     },
     "96fa756a781f4e9bb4fba272c2347f56": {
      "model_module": "jupyter-matplotlib",
      "model_module_version": "^0.7.4",
      "model_name": "ToolbarModel",
      "state": {
       "layout": "IPY_MODEL_030105ee2f834219a03339218913d624",
       "toolitems": [
        [
         "Home",
         "Reset original view",
         "home",
         "home"
        ],
        [
         "Back",
         "Back to previous view",
         "arrow-left",
         "back"
        ],
        [
         "Forward",
         "Forward to next view",
         "arrow-right",
         "forward"
        ],
        [
         "Pan",
         "Left button pans, Right button zooms\nx/y fixes axis, CTRL fixes aspect",
         "arrows",
         "pan"
        ],
        [
         "Zoom",
         "Zoom to rectangle\nx/y fixes axis, CTRL fixes aspect",
         "square-o",
         "zoom"
        ],
        [
         "Download",
         "Download plot",
         "floppy-o",
         "save_figure"
        ]
       ]
      }
     },
     "9826d3d1a3934e2d8263bc328ef1a004": {
      "model_module": "jupyter-matplotlib",
      "model_module_version": "^0.7.4",
      "model_name": "ToolbarModel",
      "state": {
       "layout": "IPY_MODEL_31274485b01e42188651e6b6ecdf2126",
       "toolitems": [
        [
         "Home",
         "Reset original view",
         "home",
         "home"
        ],
        [
         "Back",
         "Back to previous view",
         "arrow-left",
         "back"
        ],
        [
         "Forward",
         "Forward to next view",
         "arrow-right",
         "forward"
        ],
        [
         "Pan",
         "Left button pans, Right button zooms\nx/y fixes axis, CTRL fixes aspect",
         "arrows",
         "pan"
        ],
        [
         "Zoom",
         "Zoom to rectangle\nx/y fixes axis, CTRL fixes aspect",
         "square-o",
         "zoom"
        ],
        [
         "Download",
         "Download plot",
         "floppy-o",
         "save_figure"
        ]
       ]
      }
     },
     "9af2263ab29e4c16879db61160cf53db": {
      "model_module": "@jupyter-widgets/base",
      "model_module_version": "1.2.0",
      "model_name": "LayoutModel",
      "state": {}
     },
     "9cc5d37f6530417fab44362ab56818dc": {
      "model_module": "@jupyter-widgets/base",
      "model_module_version": "1.2.0",
      "model_name": "LayoutModel",
      "state": {}
     },
     "9e8f39c1344b47cbaa144074c167725f": {
      "model_module": "jupyter-matplotlib",
      "model_module_version": "^0.7.4",
      "model_name": "ToolbarModel",
      "state": {
       "layout": "IPY_MODEL_c62910b3eea744d3b01a3c0c3944ba3a",
       "toolitems": [
        [
         "Home",
         "Reset original view",
         "home",
         "home"
        ],
        [
         "Back",
         "Back to previous view",
         "arrow-left",
         "back"
        ],
        [
         "Forward",
         "Forward to next view",
         "arrow-right",
         "forward"
        ],
        [
         "Pan",
         "Left button pans, Right button zooms\nx/y fixes axis, CTRL fixes aspect",
         "arrows",
         "pan"
        ],
        [
         "Zoom",
         "Zoom to rectangle\nx/y fixes axis, CTRL fixes aspect",
         "square-o",
         "zoom"
        ],
        [
         "Download",
         "Download plot",
         "floppy-o",
         "save_figure"
        ]
       ]
      }
     },
     "9ee375e874154161945fd5aa88612168": {
      "model_module": "@jupyter-widgets/base",
      "model_module_version": "1.2.0",
      "model_name": "LayoutModel",
      "state": {}
     },
     "9fc830db9caf47489f11570d298069b4": {
      "model_module": "@jupyter-widgets/base",
      "model_module_version": "1.2.0",
      "model_name": "LayoutModel",
      "state": {}
     },
     "a02d7edaa0fa4fbb9ae1497b9aae2581": {
      "model_module": "@jupyter-widgets/base",
      "model_module_version": "1.2.0",
      "model_name": "LayoutModel",
      "state": {}
     },
     "a100518df16149b482fcdd44e887e6b8": {
      "model_module": "@jupyter-widgets/base",
      "model_module_version": "1.2.0",
      "model_name": "LayoutModel",
      "state": {}
     },
     "a33b7f7ac6514a5ca1ce908ea27964a9": {
      "model_module": "@jupyter-widgets/base",
      "model_module_version": "1.2.0",
      "model_name": "LayoutModel",
      "state": {}
     },
     "a344a3044bd243beaf1592f46ac4e0dc": {
      "model_module": "@jupyter-widgets/base",
      "model_module_version": "1.2.0",
      "model_name": "LayoutModel",
      "state": {}
     },
     "a757afe7420e43708dbcdcf93a1fa71b": {
      "model_module": "@jupyter-widgets/base",
      "model_module_version": "1.2.0",
      "model_name": "LayoutModel",
      "state": {}
     },
     "aaa32284879a498d80fd631921c7d40b": {
      "model_module": "jupyter-matplotlib",
      "model_module_version": "^0.7.4",
      "model_name": "ToolbarModel",
      "state": {
       "layout": "IPY_MODEL_c8309a96068a4eab964e5a42b1906d8b",
       "toolitems": [
        [
         "Home",
         "Reset original view",
         "home",
         "home"
        ],
        [
         "Back",
         "Back to previous view",
         "arrow-left",
         "back"
        ],
        [
         "Forward",
         "Forward to next view",
         "arrow-right",
         "forward"
        ],
        [
         "Pan",
         "Left button pans, Right button zooms\nx/y fixes axis, CTRL fixes aspect",
         "arrows",
         "pan"
        ],
        [
         "Zoom",
         "Zoom to rectangle\nx/y fixes axis, CTRL fixes aspect",
         "square-o",
         "zoom"
        ],
        [
         "Download",
         "Download plot",
         "floppy-o",
         "save_figure"
        ]
       ]
      }
     },
     "ab72bd47ee7948a09e63ba211d60a600": {
      "model_module": "jupyter-matplotlib",
      "model_module_version": "^0.7.4",
      "model_name": "ToolbarModel",
      "state": {
       "layout": "IPY_MODEL_562decff464f41368ec3ed4a2563405d",
       "toolitems": [
        [
         "Home",
         "Reset original view",
         "home",
         "home"
        ],
        [
         "Back",
         "Back to previous view",
         "arrow-left",
         "back"
        ],
        [
         "Forward",
         "Forward to next view",
         "arrow-right",
         "forward"
        ],
        [
         "Pan",
         "Left button pans, Right button zooms\nx/y fixes axis, CTRL fixes aspect",
         "arrows",
         "pan"
        ],
        [
         "Zoom",
         "Zoom to rectangle\nx/y fixes axis, CTRL fixes aspect",
         "square-o",
         "zoom"
        ],
        [
         "Download",
         "Download plot",
         "floppy-o",
         "save_figure"
        ]
       ]
      }
     },
     "ab9c2d45aea94a7db4d56385809f7a9e": {
      "model_module": "@jupyter-widgets/base",
      "model_module_version": "1.2.0",
      "model_name": "LayoutModel",
      "state": {}
     },
     "ac56243abd8f4c06b47e9a3bf4c47b6f": {
      "model_module": "@jupyter-widgets/base",
      "model_module_version": "1.2.0",
      "model_name": "LayoutModel",
      "state": {}
     },
     "ac8a6cecfab9460cb7575cea8af05568": {
      "model_module": "@jupyter-widgets/base",
      "model_module_version": "1.2.0",
      "model_name": "LayoutModel",
      "state": {}
     },
     "acd0c470f0d9439693749b75004a9a0d": {
      "model_module": "@jupyter-widgets/base",
      "model_module_version": "1.2.0",
      "model_name": "LayoutModel",
      "state": {}
     },
     "ad07126d10664acbaade725dbb7c64d4": {
      "model_module": "@jupyter-widgets/base",
      "model_module_version": "1.2.0",
      "model_name": "LayoutModel",
      "state": {}
     },
     "ae64b80c0fa049c595189b0ae297dcc7": {
      "model_module": "@jupyter-widgets/base",
      "model_module_version": "1.2.0",
      "model_name": "LayoutModel",
      "state": {}
     },
     "ae7ee59f1f2a410298e0c7079e0b2f75": {
      "model_module": "@jupyter-widgets/base",
      "model_module_version": "1.2.0",
      "model_name": "LayoutModel",
      "state": {}
     },
     "afdc2b458eb84299a53aa0c1737c2092": {
      "model_module": "@jupyter-widgets/base",
      "model_module_version": "1.2.0",
      "model_name": "LayoutModel",
      "state": {}
     },
     "b5b08d519e7d466fb32ffa2d64d3c274": {
      "model_module": "@jupyter-widgets/base",
      "model_module_version": "1.2.0",
      "model_name": "LayoutModel",
      "state": {}
     },
     "b7b00909254c4da88d3c142718b3deca": {
      "model_module": "@jupyter-widgets/base",
      "model_module_version": "1.2.0",
      "model_name": "LayoutModel",
      "state": {}
     },
     "b9b15d68e71c49caa5a9dcffcefb7b7b": {
      "model_module": "@jupyter-widgets/base",
      "model_module_version": "1.2.0",
      "model_name": "LayoutModel",
      "state": {}
     },
     "ba27a49c821e4f5ab78408ba45488c94": {
      "model_module": "jupyter-matplotlib",
      "model_module_version": "^0.7.4",
      "model_name": "ToolbarModel",
      "state": {
       "layout": "IPY_MODEL_ad07126d10664acbaade725dbb7c64d4",
       "toolitems": [
        [
         "Home",
         "Reset original view",
         "home",
         "home"
        ],
        [
         "Back",
         "Back to previous view",
         "arrow-left",
         "back"
        ],
        [
         "Forward",
         "Forward to next view",
         "arrow-right",
         "forward"
        ],
        [
         "Pan",
         "Left button pans, Right button zooms\nx/y fixes axis, CTRL fixes aspect",
         "arrows",
         "pan"
        ],
        [
         "Zoom",
         "Zoom to rectangle\nx/y fixes axis, CTRL fixes aspect",
         "square-o",
         "zoom"
        ],
        [
         "Download",
         "Download plot",
         "floppy-o",
         "save_figure"
        ]
       ]
      }
     },
     "ba2f12135240475e85d39b4d22ad505a": {
      "model_module": "@jupyter-widgets/base",
      "model_module_version": "1.2.0",
      "model_name": "LayoutModel",
      "state": {}
     },
     "bb62f27b705d4b7192d75e13bc69dbed": {
      "model_module": "@jupyter-widgets/base",
      "model_module_version": "1.2.0",
      "model_name": "LayoutModel",
      "state": {}
     },
     "bbeebd077bdb4b22b692bd230bc14f8d": {
      "model_module": "jupyter-matplotlib",
      "model_module_version": "^0.7.4",
      "model_name": "ToolbarModel",
      "state": {
       "layout": "IPY_MODEL_8d3975f06557475586e279183ed93b78",
       "toolitems": [
        [
         "Home",
         "Reset original view",
         "home",
         "home"
        ],
        [
         "Back",
         "Back to previous view",
         "arrow-left",
         "back"
        ],
        [
         "Forward",
         "Forward to next view",
         "arrow-right",
         "forward"
        ],
        [
         "Pan",
         "Left button pans, Right button zooms\nx/y fixes axis, CTRL fixes aspect",
         "arrows",
         "pan"
        ],
        [
         "Zoom",
         "Zoom to rectangle\nx/y fixes axis, CTRL fixes aspect",
         "square-o",
         "zoom"
        ],
        [
         "Download",
         "Download plot",
         "floppy-o",
         "save_figure"
        ]
       ]
      }
     },
     "bee16e72ec08474b87a931b5c16ded8a": {
      "model_module": "@jupyter-widgets/base",
      "model_module_version": "1.2.0",
      "model_name": "LayoutModel",
      "state": {}
     },
     "bfbd14cc193845b59c978832514a657e": {
      "model_module": "@jupyter-widgets/base",
      "model_module_version": "1.2.0",
      "model_name": "LayoutModel",
      "state": {}
     },
     "c160038924e442e88f40a709238b7873": {
      "model_module": "@jupyter-widgets/base",
      "model_module_version": "1.2.0",
      "model_name": "LayoutModel",
      "state": {}
     },
     "c1dd1cbbbb084a318e1f8b29de95278f": {
      "model_module": "jupyter-matplotlib",
      "model_module_version": "^0.7.4",
      "model_name": "MPLCanvasModel",
      "state": {
       "_cursor": "default",
       "_figure_label": "Figure 1",
       "_height": 600,
       "_width": 900,
       "layout": "IPY_MODEL_e5de24537b5543b095f3946b393a1228",
       "toolbar": "IPY_MODEL_e6d40bf35c7d43f8b6f99aa9e642b26f",
       "toolbar_position": "left"
      }
     },
     "c492e6bab3114543b8a4be15b16a13cd": {
      "model_module": "@jupyter-widgets/base",
      "model_module_version": "1.2.0",
      "model_name": "LayoutModel",
      "state": {}
     },
     "c4b6c77cfd104e7785ad9f0c9d44b6d0": {
      "model_module": "jupyter-matplotlib",
      "model_module_version": "^0.7.4",
      "model_name": "ToolbarModel",
      "state": {
       "layout": "IPY_MODEL_2698e47fa5f347e1bccd899e9510c027",
       "toolitems": [
        [
         "Home",
         "Reset original view",
         "home",
         "home"
        ],
        [
         "Back",
         "Back to previous view",
         "arrow-left",
         "back"
        ],
        [
         "Forward",
         "Forward to next view",
         "arrow-right",
         "forward"
        ],
        [
         "Pan",
         "Left button pans, Right button zooms\nx/y fixes axis, CTRL fixes aspect",
         "arrows",
         "pan"
        ],
        [
         "Zoom",
         "Zoom to rectangle\nx/y fixes axis, CTRL fixes aspect",
         "square-o",
         "zoom"
        ],
        [
         "Download",
         "Download plot",
         "floppy-o",
         "save_figure"
        ]
       ]
      }
     },
     "c54238b024574ed0ae37f49497747c7b": {
      "model_module": "@jupyter-widgets/base",
      "model_module_version": "1.2.0",
      "model_name": "LayoutModel",
      "state": {}
     },
     "c5dfb55bd9c54e91b188310bf9a1329a": {
      "model_module": "jupyter-matplotlib",
      "model_module_version": "^0.7.4",
      "model_name": "MPLCanvasModel",
      "state": {
       "_cursor": "default",
       "_figure_label": "Figure 2",
       "_height": 300,
       "_width": 500,
       "layout": "IPY_MODEL_ba2f12135240475e85d39b4d22ad505a",
       "toolbar": "IPY_MODEL_172ccad7d5da43efa24e3f5f7cd92988",
       "toolbar_position": "left"
      }
     },
     "c62910b3eea744d3b01a3c0c3944ba3a": {
      "model_module": "@jupyter-widgets/base",
      "model_module_version": "1.2.0",
      "model_name": "LayoutModel",
      "state": {}
     },
     "c75e1c50a11348c8b59dc468bca8b347": {
      "model_module": "jupyter-matplotlib",
      "model_module_version": "^0.7.4",
      "model_name": "ToolbarModel",
      "state": {
       "layout": "IPY_MODEL_bee16e72ec08474b87a931b5c16ded8a",
       "toolitems": [
        [
         "Home",
         "Reset original view",
         "home",
         "home"
        ],
        [
         "Back",
         "Back to previous view",
         "arrow-left",
         "back"
        ],
        [
         "Forward",
         "Forward to next view",
         "arrow-right",
         "forward"
        ],
        [
         "Pan",
         "Left button pans, Right button zooms\nx/y fixes axis, CTRL fixes aspect",
         "arrows",
         "pan"
        ],
        [
         "Zoom",
         "Zoom to rectangle\nx/y fixes axis, CTRL fixes aspect",
         "square-o",
         "zoom"
        ],
        [
         "Download",
         "Download plot",
         "floppy-o",
         "save_figure"
        ]
       ]
      }
     },
     "c8309a96068a4eab964e5a42b1906d8b": {
      "model_module": "@jupyter-widgets/base",
      "model_module_version": "1.2.0",
      "model_name": "LayoutModel",
      "state": {}
     },
     "c9d1aef0f3d64f50964ead510b47cecf": {
      "model_module": "jupyter-matplotlib",
      "model_module_version": "^0.7.4",
      "model_name": "ToolbarModel",
      "state": {
       "layout": "IPY_MODEL_d549466e2e6645ada4d9c34290c41879",
       "toolitems": [
        [
         "Home",
         "Reset original view",
         "home",
         "home"
        ],
        [
         "Back",
         "Back to previous view",
         "arrow-left",
         "back"
        ],
        [
         "Forward",
         "Forward to next view",
         "arrow-right",
         "forward"
        ],
        [
         "Pan",
         "Left button pans, Right button zooms\nx/y fixes axis, CTRL fixes aspect",
         "arrows",
         "pan"
        ],
        [
         "Zoom",
         "Zoom to rectangle\nx/y fixes axis, CTRL fixes aspect",
         "square-o",
         "zoom"
        ],
        [
         "Download",
         "Download plot",
         "floppy-o",
         "save_figure"
        ]
       ]
      }
     },
     "cc9a18b75720402b95ee0a8560ce5cd5": {
      "model_module": "jupyter-matplotlib",
      "model_module_version": "^0.7.4",
      "model_name": "ToolbarModel",
      "state": {
       "layout": "IPY_MODEL_6129044cb22c463d8d17827cbd81ca22",
       "toolitems": [
        [
         "Home",
         "Reset original view",
         "home",
         "home"
        ],
        [
         "Back",
         "Back to previous view",
         "arrow-left",
         "back"
        ],
        [
         "Forward",
         "Forward to next view",
         "arrow-right",
         "forward"
        ],
        [
         "Pan",
         "Left button pans, Right button zooms\nx/y fixes axis, CTRL fixes aspect",
         "arrows",
         "pan"
        ],
        [
         "Zoom",
         "Zoom to rectangle\nx/y fixes axis, CTRL fixes aspect",
         "square-o",
         "zoom"
        ],
        [
         "Download",
         "Download plot",
         "floppy-o",
         "save_figure"
        ]
       ]
      }
     },
     "ce4bed2021e44478b5234c065997760e": {
      "model_module": "@jupyter-widgets/base",
      "model_module_version": "1.2.0",
      "model_name": "LayoutModel",
      "state": {}
     },
     "d02681fff2ee4bfb8e5eedeee75f1237": {
      "model_module": "@jupyter-widgets/base",
      "model_module_version": "1.2.0",
      "model_name": "LayoutModel",
      "state": {}
     },
     "d0d6b44c74714b448b6ae4a365447feb": {
      "model_module": "@jupyter-widgets/base",
      "model_module_version": "1.2.0",
      "model_name": "LayoutModel",
      "state": {}
     },
     "d0ed6acbb62b461b95f2b7d3c6481dfe": {
      "model_module": "@jupyter-widgets/base",
      "model_module_version": "1.2.0",
      "model_name": "LayoutModel",
      "state": {}
     },
     "d1402e176ee94058b573f9ac18144050": {
      "model_module": "jupyter-matplotlib",
      "model_module_version": "^0.7.4",
      "model_name": "ToolbarModel",
      "state": {
       "layout": "IPY_MODEL_00d5ee644d6f4f4bab67779e00b6019b",
       "toolitems": [
        [
         "Home",
         "Reset original view",
         "home",
         "home"
        ],
        [
         "Back",
         "Back to previous view",
         "arrow-left",
         "back"
        ],
        [
         "Forward",
         "Forward to next view",
         "arrow-right",
         "forward"
        ],
        [
         "Pan",
         "Left button pans, Right button zooms\nx/y fixes axis, CTRL fixes aspect",
         "arrows",
         "pan"
        ],
        [
         "Zoom",
         "Zoom to rectangle\nx/y fixes axis, CTRL fixes aspect",
         "square-o",
         "zoom"
        ],
        [
         "Download",
         "Download plot",
         "floppy-o",
         "save_figure"
        ]
       ]
      }
     },
     "d197577ffd6648539779ce0a0de95c84": {
      "model_module": "@jupyter-widgets/base",
      "model_module_version": "1.2.0",
      "model_name": "LayoutModel",
      "state": {}
     },
     "d23587fab97144bbaa45e532574d57ec": {
      "model_module": "@jupyter-widgets/base",
      "model_module_version": "1.2.0",
      "model_name": "LayoutModel",
      "state": {}
     },
     "d260abab7c654f12868acf4d176e5648": {
      "model_module": "jupyter-matplotlib",
      "model_module_version": "^0.7.4",
      "model_name": "ToolbarModel",
      "state": {
       "layout": "IPY_MODEL_ebeb114439ed4446ab8b836be5340873",
       "toolitems": [
        [
         "Home",
         "Reset original view",
         "home",
         "home"
        ],
        [
         "Back",
         "Back to previous view",
         "arrow-left",
         "back"
        ],
        [
         "Forward",
         "Forward to next view",
         "arrow-right",
         "forward"
        ],
        [
         "Pan",
         "Left button pans, Right button zooms\nx/y fixes axis, CTRL fixes aspect",
         "arrows",
         "pan"
        ],
        [
         "Zoom",
         "Zoom to rectangle\nx/y fixes axis, CTRL fixes aspect",
         "square-o",
         "zoom"
        ],
        [
         "Download",
         "Download plot",
         "floppy-o",
         "save_figure"
        ]
       ]
      }
     },
     "d3c7fd890ce145d68f0bdfcacf6014ec": {
      "model_module": "jupyter-matplotlib",
      "model_module_version": "^0.7.4",
      "model_name": "ToolbarModel",
      "state": {
       "_current_action": "pan",
       "layout": "IPY_MODEL_066ab51caae24b53a80527f2888113f8",
       "toolitems": [
        [
         "Home",
         "Reset original view",
         "home",
         "home"
        ],
        [
         "Back",
         "Back to previous view",
         "arrow-left",
         "back"
        ],
        [
         "Forward",
         "Forward to next view",
         "arrow-right",
         "forward"
        ],
        [
         "Pan",
         "Left button pans, Right button zooms\nx/y fixes axis, CTRL fixes aspect",
         "arrows",
         "pan"
        ],
        [
         "Zoom",
         "Zoom to rectangle\nx/y fixes axis, CTRL fixes aspect",
         "square-o",
         "zoom"
        ],
        [
         "Download",
         "Download plot",
         "floppy-o",
         "save_figure"
        ]
       ]
      }
     },
     "d40c80b8de2243379d4164961a91e3cb": {
      "model_module": "jupyter-matplotlib",
      "model_module_version": "^0.7.4",
      "model_name": "ToolbarModel",
      "state": {
       "layout": "IPY_MODEL_bb62f27b705d4b7192d75e13bc69dbed",
       "toolitems": [
        [
         "Home",
         "Reset original view",
         "home",
         "home"
        ],
        [
         "Back",
         "Back to previous view",
         "arrow-left",
         "back"
        ],
        [
         "Forward",
         "Forward to next view",
         "arrow-right",
         "forward"
        ],
        [
         "Pan",
         "Left button pans, Right button zooms\nx/y fixes axis, CTRL fixes aspect",
         "arrows",
         "pan"
        ],
        [
         "Zoom",
         "Zoom to rectangle\nx/y fixes axis, CTRL fixes aspect",
         "square-o",
         "zoom"
        ],
        [
         "Download",
         "Download plot",
         "floppy-o",
         "save_figure"
        ]
       ]
      }
     },
     "d4a4e156eb2746f89a64cb8fdef596e6": {
      "model_module": "@jupyter-widgets/base",
      "model_module_version": "1.2.0",
      "model_name": "LayoutModel",
      "state": {}
     },
     "d519b0e16d7c4ba5b4a03cdd14145c18": {
      "model_module": "jupyter-matplotlib",
      "model_module_version": "^0.7.4",
      "model_name": "ToolbarModel",
      "state": {
       "layout": "IPY_MODEL_ac8a6cecfab9460cb7575cea8af05568",
       "toolitems": [
        [
         "Home",
         "Reset original view",
         "home",
         "home"
        ],
        [
         "Back",
         "Back to previous view",
         "arrow-left",
         "back"
        ],
        [
         "Forward",
         "Forward to next view",
         "arrow-right",
         "forward"
        ],
        [
         "Pan",
         "Left button pans, Right button zooms\nx/y fixes axis, CTRL fixes aspect",
         "arrows",
         "pan"
        ],
        [
         "Zoom",
         "Zoom to rectangle\nx/y fixes axis, CTRL fixes aspect",
         "square-o",
         "zoom"
        ],
        [
         "Download",
         "Download plot",
         "floppy-o",
         "save_figure"
        ]
       ]
      }
     },
     "d549466e2e6645ada4d9c34290c41879": {
      "model_module": "@jupyter-widgets/base",
      "model_module_version": "1.2.0",
      "model_name": "LayoutModel",
      "state": {}
     },
     "d5f680b984a1425d90e982e222eba9a5": {
      "model_module": "@jupyter-widgets/base",
      "model_module_version": "1.2.0",
      "model_name": "LayoutModel",
      "state": {}
     },
     "d7c25a941bfc4e52ac6180700e719234": {
      "model_module": "@jupyter-widgets/base",
      "model_module_version": "1.2.0",
      "model_name": "LayoutModel",
      "state": {}
     },
     "d9d8024edfec448e81a629d957d7a3be": {
      "model_module": "@jupyter-widgets/base",
      "model_module_version": "1.2.0",
      "model_name": "LayoutModel",
      "state": {}
     },
     "d9f5ca3b579249338782be5c3d1f5f27": {
      "model_module": "jupyter-matplotlib",
      "model_module_version": "^0.7.4",
      "model_name": "ToolbarModel",
      "state": {
       "layout": "IPY_MODEL_5742e4c9e2ed42328a0041f38d178b35",
       "toolitems": [
        [
         "Home",
         "Reset original view",
         "home",
         "home"
        ],
        [
         "Back",
         "Back to previous view",
         "arrow-left",
         "back"
        ],
        [
         "Forward",
         "Forward to next view",
         "arrow-right",
         "forward"
        ],
        [
         "Pan",
         "Left button pans, Right button zooms\nx/y fixes axis, CTRL fixes aspect",
         "arrows",
         "pan"
        ],
        [
         "Zoom",
         "Zoom to rectangle\nx/y fixes axis, CTRL fixes aspect",
         "square-o",
         "zoom"
        ],
        [
         "Download",
         "Download plot",
         "floppy-o",
         "save_figure"
        ]
       ]
      }
     },
     "dbc2a09999a54e1187c395a344cf3ee7": {
      "model_module": "@jupyter-widgets/base",
      "model_module_version": "1.2.0",
      "model_name": "LayoutModel",
      "state": {}
     },
     "dce7b56482924c5992a947b2e96948b1": {
      "model_module": "@jupyter-widgets/base",
      "model_module_version": "1.2.0",
      "model_name": "LayoutModel",
      "state": {}
     },
     "ddbe3c3b6a2b41d08034bea4d51b56b0": {
      "model_module": "@jupyter-widgets/base",
      "model_module_version": "1.2.0",
      "model_name": "LayoutModel",
      "state": {}
     },
     "de1d55b85e1a45cb8eb1ef4518b645e8": {
      "model_module": "jupyter-matplotlib",
      "model_module_version": "^0.7.4",
      "model_name": "ToolbarModel",
      "state": {
       "layout": "IPY_MODEL_1e081ca6da48421781ab8c8d15233af4",
       "toolitems": [
        [
         "Home",
         "Reset original view",
         "home",
         "home"
        ],
        [
         "Back",
         "Back to previous view",
         "arrow-left",
         "back"
        ],
        [
         "Forward",
         "Forward to next view",
         "arrow-right",
         "forward"
        ],
        [
         "Pan",
         "Left button pans, Right button zooms\nx/y fixes axis, CTRL fixes aspect",
         "arrows",
         "pan"
        ],
        [
         "Zoom",
         "Zoom to rectangle\nx/y fixes axis, CTRL fixes aspect",
         "square-o",
         "zoom"
        ],
        [
         "Download",
         "Download plot",
         "floppy-o",
         "save_figure"
        ]
       ]
      }
     },
     "de4e30622bb04bf8a2298dce10c24a4b": {
      "model_module": "@jupyter-widgets/base",
      "model_module_version": "1.2.0",
      "model_name": "LayoutModel",
      "state": {}
     },
     "df4f00c323e044c2bccbd5ff97040d8d": {
      "model_module": "jupyter-matplotlib",
      "model_module_version": "^0.7.4",
      "model_name": "ToolbarModel",
      "state": {
       "_current_action": "zoom",
       "layout": "IPY_MODEL_90b2fd47ce4d4b4ab1193d542ee9b461",
       "toolitems": [
        [
         "Home",
         "Reset original view",
         "home",
         "home"
        ],
        [
         "Back",
         "Back to previous view",
         "arrow-left",
         "back"
        ],
        [
         "Forward",
         "Forward to next view",
         "arrow-right",
         "forward"
        ],
        [
         "Pan",
         "Left button pans, Right button zooms\nx/y fixes axis, CTRL fixes aspect",
         "arrows",
         "pan"
        ],
        [
         "Zoom",
         "Zoom to rectangle\nx/y fixes axis, CTRL fixes aspect",
         "square-o",
         "zoom"
        ],
        [
         "Download",
         "Download plot",
         "floppy-o",
         "save_figure"
        ]
       ]
      }
     },
     "e0cf610ce5464aabb3bad5e65da9af36": {
      "model_module": "@jupyter-widgets/base",
      "model_module_version": "1.2.0",
      "model_name": "LayoutModel",
      "state": {}
     },
     "e23b0ba05a9f46148c637524d47df4d9": {
      "model_module": "jupyter-matplotlib",
      "model_module_version": "^0.7.4",
      "model_name": "ToolbarModel",
      "state": {
       "layout": "IPY_MODEL_4365f18a0b584c90bfcd406aa374c6c9",
       "toolitems": [
        [
         "Home",
         "Reset original view",
         "home",
         "home"
        ],
        [
         "Back",
         "Back to previous view",
         "arrow-left",
         "back"
        ],
        [
         "Forward",
         "Forward to next view",
         "arrow-right",
         "forward"
        ],
        [
         "Pan",
         "Left button pans, Right button zooms\nx/y fixes axis, CTRL fixes aspect",
         "arrows",
         "pan"
        ],
        [
         "Zoom",
         "Zoom to rectangle\nx/y fixes axis, CTRL fixes aspect",
         "square-o",
         "zoom"
        ],
        [
         "Download",
         "Download plot",
         "floppy-o",
         "save_figure"
        ]
       ]
      }
     },
     "e24b722e6aff4590b62d3e0364cc6e2a": {
      "model_module": "@jupyter-widgets/base",
      "model_module_version": "1.2.0",
      "model_name": "LayoutModel",
      "state": {}
     },
     "e311030ea6d44368bcfcd75b528d20f8": {
      "model_module": "@jupyter-widgets/base",
      "model_module_version": "1.2.0",
      "model_name": "LayoutModel",
      "state": {}
     },
     "e440d096740e45788f5028db93191d91": {
      "model_module": "jupyter-matplotlib",
      "model_module_version": "^0.7.4",
      "model_name": "ToolbarModel",
      "state": {
       "layout": "IPY_MODEL_3a07ec388cad49b086db79cfe37052e3",
       "toolitems": [
        [
         "Home",
         "Reset original view",
         "home",
         "home"
        ],
        [
         "Back",
         "Back to previous view",
         "arrow-left",
         "back"
        ],
        [
         "Forward",
         "Forward to next view",
         "arrow-right",
         "forward"
        ],
        [
         "Pan",
         "Left button pans, Right button zooms\nx/y fixes axis, CTRL fixes aspect",
         "arrows",
         "pan"
        ],
        [
         "Zoom",
         "Zoom to rectangle\nx/y fixes axis, CTRL fixes aspect",
         "square-o",
         "zoom"
        ],
        [
         "Download",
         "Download plot",
         "floppy-o",
         "save_figure"
        ]
       ]
      }
     },
     "e5de24537b5543b095f3946b393a1228": {
      "model_module": "@jupyter-widgets/base",
      "model_module_version": "1.2.0",
      "model_name": "LayoutModel",
      "state": {}
     },
     "e6d40bf35c7d43f8b6f99aa9e642b26f": {
      "model_module": "jupyter-matplotlib",
      "model_module_version": "^0.7.4",
      "model_name": "ToolbarModel",
      "state": {
       "layout": "IPY_MODEL_432e267a3a2b4710af4ff9194d45323c",
       "toolitems": [
        [
         "Home",
         "Reset original view",
         "home",
         "home"
        ],
        [
         "Back",
         "Back to previous view",
         "arrow-left",
         "back"
        ],
        [
         "Forward",
         "Forward to next view",
         "arrow-right",
         "forward"
        ],
        [
         "Pan",
         "Left button pans, Right button zooms\nx/y fixes axis, CTRL fixes aspect",
         "arrows",
         "pan"
        ],
        [
         "Zoom",
         "Zoom to rectangle\nx/y fixes axis, CTRL fixes aspect",
         "square-o",
         "zoom"
        ],
        [
         "Download",
         "Download plot",
         "floppy-o",
         "save_figure"
        ]
       ]
      }
     },
     "e7fb89ee9b6a4b3caad6040da53c5920": {
      "model_module": "@jupyter-widgets/base",
      "model_module_version": "1.2.0",
      "model_name": "LayoutModel",
      "state": {}
     },
     "ea4639d07e164ec980e678716dfc057b": {
      "model_module": "jupyter-matplotlib",
      "model_module_version": "^0.7.4",
      "model_name": "ToolbarModel",
      "state": {
       "layout": "IPY_MODEL_1f73028bc7ea4c8db3f2d44dfc0f073e",
       "toolitems": [
        [
         "Home",
         "Reset original view",
         "home",
         "home"
        ],
        [
         "Back",
         "Back to previous view",
         "arrow-left",
         "back"
        ],
        [
         "Forward",
         "Forward to next view",
         "arrow-right",
         "forward"
        ],
        [
         "Pan",
         "Left button pans, Right button zooms\nx/y fixes axis, CTRL fixes aspect",
         "arrows",
         "pan"
        ],
        [
         "Zoom",
         "Zoom to rectangle\nx/y fixes axis, CTRL fixes aspect",
         "square-o",
         "zoom"
        ],
        [
         "Download",
         "Download plot",
         "floppy-o",
         "save_figure"
        ]
       ]
      }
     },
     "ebeb114439ed4446ab8b836be5340873": {
      "model_module": "@jupyter-widgets/base",
      "model_module_version": "1.2.0",
      "model_name": "LayoutModel",
      "state": {}
     },
     "ec2e26509314465ab40a24c8e0bfbe46": {
      "model_module": "@jupyter-widgets/base",
      "model_module_version": "1.2.0",
      "model_name": "LayoutModel",
      "state": {}
     },
     "ee19afa31fd4463b8ebf9de2bf16018e": {
      "model_module": "@jupyter-widgets/base",
      "model_module_version": "1.2.0",
      "model_name": "LayoutModel",
      "state": {}
     },
     "efc1557e807a42bb9a98cf8a91bdb3eb": {
      "model_module": "@jupyter-widgets/base",
      "model_module_version": "1.2.0",
      "model_name": "LayoutModel",
      "state": {}
     },
     "f25268dd11fc4f9e8ebfcbd1c00ca10e": {
      "model_module": "@jupyter-widgets/base",
      "model_module_version": "1.2.0",
      "model_name": "LayoutModel",
      "state": {}
     },
     "f2be36aed98b44da86b617f15fc51141": {
      "model_module": "jupyter-matplotlib",
      "model_module_version": "^0.7.4",
      "model_name": "ToolbarModel",
      "state": {
       "layout": "IPY_MODEL_9fc830db9caf47489f11570d298069b4",
       "toolitems": [
        [
         "Home",
         "Reset original view",
         "home",
         "home"
        ],
        [
         "Back",
         "Back to previous view",
         "arrow-left",
         "back"
        ],
        [
         "Forward",
         "Forward to next view",
         "arrow-right",
         "forward"
        ],
        [
         "Pan",
         "Left button pans, Right button zooms\nx/y fixes axis, CTRL fixes aspect",
         "arrows",
         "pan"
        ],
        [
         "Zoom",
         "Zoom to rectangle\nx/y fixes axis, CTRL fixes aspect",
         "square-o",
         "zoom"
        ],
        [
         "Download",
         "Download plot",
         "floppy-o",
         "save_figure"
        ]
       ]
      }
     },
     "f307ee698037478b870d0992123710bd": {
      "model_module": "jupyter-matplotlib",
      "model_module_version": "^0.7.4",
      "model_name": "ToolbarModel",
      "state": {
       "layout": "IPY_MODEL_7ab4513bdf2d4931bf2c0205c5f7d892",
       "toolitems": [
        [
         "Home",
         "Reset original view",
         "home",
         "home"
        ],
        [
         "Back",
         "Back to previous view",
         "arrow-left",
         "back"
        ],
        [
         "Forward",
         "Forward to next view",
         "arrow-right",
         "forward"
        ],
        [
         "Pan",
         "Left button pans, Right button zooms\nx/y fixes axis, CTRL fixes aspect",
         "arrows",
         "pan"
        ],
        [
         "Zoom",
         "Zoom to rectangle\nx/y fixes axis, CTRL fixes aspect",
         "square-o",
         "zoom"
        ],
        [
         "Download",
         "Download plot",
         "floppy-o",
         "save_figure"
        ]
       ]
      }
     },
     "f5230ad2f3bc48eb86353d9d9349c049": {
      "model_module": "@jupyter-widgets/base",
      "model_module_version": "1.2.0",
      "model_name": "LayoutModel",
      "state": {}
     },
     "f5f5e12795d344a7ab323dd35d5b5800": {
      "model_module": "jupyter-matplotlib",
      "model_module_version": "^0.7.4",
      "model_name": "ToolbarModel",
      "state": {
       "layout": "IPY_MODEL_5f704bc2cd2e4331a5a4722d0c22e33b",
       "toolitems": [
        [
         "Home",
         "Reset original view",
         "home",
         "home"
        ],
        [
         "Back",
         "Back to previous view",
         "arrow-left",
         "back"
        ],
        [
         "Forward",
         "Forward to next view",
         "arrow-right",
         "forward"
        ],
        [
         "Pan",
         "Left button pans, Right button zooms\nx/y fixes axis, CTRL fixes aspect",
         "arrows",
         "pan"
        ],
        [
         "Zoom",
         "Zoom to rectangle\nx/y fixes axis, CTRL fixes aspect",
         "square-o",
         "zoom"
        ],
        [
         "Download",
         "Download plot",
         "floppy-o",
         "save_figure"
        ]
       ]
      }
     },
     "f912bcabd37c4c489fc8d0ef5c53acfb": {
      "model_module": "@jupyter-widgets/base",
      "model_module_version": "1.2.0",
      "model_name": "LayoutModel",
      "state": {}
     },
     "fbcd0d9d5df24997930bc6c4d7422017": {
      "model_module": "@jupyter-widgets/base",
      "model_module_version": "1.2.0",
      "model_name": "LayoutModel",
      "state": {}
     },
     "fc8af11275604b998f37b25272f5576a": {
      "model_module": "@jupyter-widgets/base",
      "model_module_version": "1.2.0",
      "model_name": "LayoutModel",
      "state": {}
     },
     "fcef65dacb6f430484728c3eeddf3e48": {
      "model_module": "jupyter-matplotlib",
      "model_module_version": "^0.7.4",
      "model_name": "ToolbarModel",
      "state": {
       "layout": "IPY_MODEL_33d6f4d4d1b44909acfbd6c3809c6fdb",
       "toolitems": [
        [
         "Home",
         "Reset original view",
         "home",
         "home"
        ],
        [
         "Back",
         "Back to previous view",
         "arrow-left",
         "back"
        ],
        [
         "Forward",
         "Forward to next view",
         "arrow-right",
         "forward"
        ],
        [
         "Pan",
         "Left button pans, Right button zooms\nx/y fixes axis, CTRL fixes aspect",
         "arrows",
         "pan"
        ],
        [
         "Zoom",
         "Zoom to rectangle\nx/y fixes axis, CTRL fixes aspect",
         "square-o",
         "zoom"
        ],
        [
         "Download",
         "Download plot",
         "floppy-o",
         "save_figure"
        ]
       ]
      }
     },
     "fd71919ac7484b13a734a0d5489dc8da": {
      "model_module": "@jupyter-widgets/base",
      "model_module_version": "1.2.0",
      "model_name": "LayoutModel",
      "state": {}
     },
     "ff24fa767c3f44d0a5b8f4acdb6c2870": {
      "model_module": "jupyter-matplotlib",
      "model_module_version": "^0.7.4",
      "model_name": "ToolbarModel",
      "state": {
       "layout": "IPY_MODEL_4ee4712368cb4183b0fda879c0fc6476",
       "toolitems": [
        [
         "Home",
         "Reset original view",
         "home",
         "home"
        ],
        [
         "Back",
         "Back to previous view",
         "arrow-left",
         "back"
        ],
        [
         "Forward",
         "Forward to next view",
         "arrow-right",
         "forward"
        ],
        [
         "Pan",
         "Left button pans, Right button zooms\nx/y fixes axis, CTRL fixes aspect",
         "arrows",
         "pan"
        ],
        [
         "Zoom",
         "Zoom to rectangle\nx/y fixes axis, CTRL fixes aspect",
         "square-o",
         "zoom"
        ],
        [
         "Download",
         "Download plot",
         "floppy-o",
         "save_figure"
        ]
       ]
      }
     }
    },
    "version_major": 2,
    "version_minor": 0
   }
  }
 },
 "nbformat": 4,
 "nbformat_minor": 4
}
